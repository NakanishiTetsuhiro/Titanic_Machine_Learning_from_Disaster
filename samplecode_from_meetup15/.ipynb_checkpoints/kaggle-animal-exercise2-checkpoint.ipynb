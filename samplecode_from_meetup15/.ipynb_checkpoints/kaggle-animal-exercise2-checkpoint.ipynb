{
 "cells": [
  {
   "cell_type": "markdown",
   "metadata": {},
   "source": [
    "# kaggleで遊ぼう\n",
    "\n",
    "## 今回のお題：[kaggle - Shelter Animal Outcomes](https://www.kaggle.com/c/shelter-animal-outcomes)"
   ]
  },
  {
   "cell_type": "markdown",
   "metadata": {},
   "source": [
    "# ４つの基本ステップ\n",
    "\n",
    "1. 準備（データを落として来たり、ライブラリを読み込んだりする）\n",
    "2. データ整形（予測に効きそうな特徴量をうまくデザインしながら、全ての情報を数値データに変換する）\n",
    "3. 機械学習（交差検定を駆使してモデルごとに程よいハイパーパラメータを選び、最後にアンサンブル学習）\n",
    "4. 結果提出（予測結果をCSVファイルに書き出して、kaggleに提出）"
   ]
  },
  {
   "cell_type": "markdown",
   "metadata": {},
   "source": [
    "# ステップ１：準備\n",
    "\n",
    "目的：データを用意し、ライブラリを読み込む"
   ]
  },
  {
   "cell_type": "code",
   "execution_count": 2,
   "metadata": {
    "collapsed": false,
    "scrolled": false
   },
   "outputs": [
    {
     "name": "stdout",
     "output_type": "stream",
     "text": [
      "total 0\r\n",
      "drwxr-xr-x  3 tetsuhiro  staff  102  7 16 09:42 \u001b[1m\u001b[36m.\u001b[m\u001b[m\r\n",
      "drwxr-xr-x  5 tetsuhiro  staff  170  7 16 09:47 \u001b[1m\u001b[36m..\u001b[m\u001b[m\r\n",
      "drwxr-xr-x  6 tetsuhiro  staff  204  7 16 09:51 \u001b[1m\u001b[36mcode\u001b[m\u001b[m\r\n"
     ]
    }
   ],
   "source": [
    "# ディレクトリ構成を揃える（input, output, code）\n",
    "# exclamation markをつけるとシェルのコマンドが使える\n",
    "!ls -la .."
   ]
  },
  {
   "cell_type": "code",
   "execution_count": 4,
   "metadata": {
    "collapsed": false
   },
   "outputs": [],
   "source": [
    "# データ整形と可視化で必要となるライブラリを読み込む\n",
    "\n",
    "# 数値計算用ライブラリ\n",
    "import numpy as np  \n",
    "\n",
    "# データ解析用ライブラリ\n",
    "import pandas as pd  \n",
    "\n",
    "# 基本の描画ライブラリ（２つ）\n",
    "import matplotlib.pyplot as plt\n",
    "import seaborn as sns"
   ]
  },
  {
   "cell_type": "code",
   "execution_count": 6,
   "metadata": {
    "collapsed": true
   },
   "outputs": [],
   "source": [
    "# 便利な設定\n",
    "\n",
    "# pandasで全ての列を表示\n",
    "pd.options.display.max_columns = None\n",
    "\n",
    "# 図をipython notebook内で表示（マジックコマンド）\n",
    "%matplotlib inline\n",
    "\n",
    "# DeplicatedWarningを避けるため\n",
    "import warnings\n",
    "#warnings.filterwarnings(\"ignore\", category=DeprecationWarning)"
   ]
  },
  {
   "cell_type": "markdown",
   "metadata": {},
   "source": [
    "# ステップ２：データ整形\n",
    "\n",
    "目的：データの特徴を理解し、機械学習ができる形に整形する"
   ]
  },
  {
   "cell_type": "markdown",
   "metadata": {},
   "source": [
    "## データを読み込む\n",
    "\n",
    "- `pd.read_csv()`を使うと良い"
   ]
  },
  {
   "cell_type": "code",
   "execution_count": 9,
   "metadata": {
    "collapsed": false
   },
   "outputs": [],
   "source": [
    "# データの読み込み\n",
    "df_train = pd.read_csv(\"../../../input/train.csv\")\n",
    "df_test = pd.read_csv(\"../../../input/test.csv\")\n",
    "df_sub = pd.read_csv(\"../../../input/sample_submission.csv\")"
   ]
  },
  {
   "cell_type": "markdown",
   "metadata": {},
   "source": [
    "## データを眺める\n",
    "\n",
    "#### データを眺めるときに使える関数\n",
    "- `df.head()`, `df.tail()`\n",
    "- `df.info()`\n",
    "- `df.describe()`"
   ]
  },
  {
   "cell_type": "code",
   "execution_count": 10,
   "metadata": {
    "collapsed": false
   },
   "outputs": [
    {
     "data": {
      "text/html": [
       "<div>\n",
       "<table border=\"1\" class=\"dataframe\">\n",
       "  <thead>\n",
       "    <tr style=\"text-align: right;\">\n",
       "      <th></th>\n",
       "      <th>AnimalID</th>\n",
       "      <th>Name</th>\n",
       "      <th>DateTime</th>\n",
       "      <th>OutcomeType</th>\n",
       "      <th>OutcomeSubtype</th>\n",
       "      <th>AnimalType</th>\n",
       "      <th>SexuponOutcome</th>\n",
       "      <th>AgeuponOutcome</th>\n",
       "      <th>Breed</th>\n",
       "      <th>Color</th>\n",
       "    </tr>\n",
       "  </thead>\n",
       "  <tbody>\n",
       "    <tr>\n",
       "      <th>0</th>\n",
       "      <td>A671945</td>\n",
       "      <td>Hambone</td>\n",
       "      <td>2014-02-12 18:22:00</td>\n",
       "      <td>Return_to_owner</td>\n",
       "      <td>NaN</td>\n",
       "      <td>Dog</td>\n",
       "      <td>Neutered Male</td>\n",
       "      <td>1 year</td>\n",
       "      <td>Shetland Sheepdog Mix</td>\n",
       "      <td>Brown/White</td>\n",
       "    </tr>\n",
       "    <tr>\n",
       "      <th>1</th>\n",
       "      <td>A656520</td>\n",
       "      <td>Emily</td>\n",
       "      <td>2013-10-13 12:44:00</td>\n",
       "      <td>Euthanasia</td>\n",
       "      <td>Suffering</td>\n",
       "      <td>Cat</td>\n",
       "      <td>Spayed Female</td>\n",
       "      <td>1 year</td>\n",
       "      <td>Domestic Shorthair Mix</td>\n",
       "      <td>Cream Tabby</td>\n",
       "    </tr>\n",
       "    <tr>\n",
       "      <th>2</th>\n",
       "      <td>A686464</td>\n",
       "      <td>Pearce</td>\n",
       "      <td>2015-01-31 12:28:00</td>\n",
       "      <td>Adoption</td>\n",
       "      <td>Foster</td>\n",
       "      <td>Dog</td>\n",
       "      <td>Neutered Male</td>\n",
       "      <td>2 years</td>\n",
       "      <td>Pit Bull Mix</td>\n",
       "      <td>Blue/White</td>\n",
       "    </tr>\n",
       "    <tr>\n",
       "      <th>3</th>\n",
       "      <td>A683430</td>\n",
       "      <td>NaN</td>\n",
       "      <td>2014-07-11 19:09:00</td>\n",
       "      <td>Transfer</td>\n",
       "      <td>Partner</td>\n",
       "      <td>Cat</td>\n",
       "      <td>Intact Male</td>\n",
       "      <td>3 weeks</td>\n",
       "      <td>Domestic Shorthair Mix</td>\n",
       "      <td>Blue Cream</td>\n",
       "    </tr>\n",
       "    <tr>\n",
       "      <th>4</th>\n",
       "      <td>A667013</td>\n",
       "      <td>NaN</td>\n",
       "      <td>2013-11-15 12:52:00</td>\n",
       "      <td>Transfer</td>\n",
       "      <td>Partner</td>\n",
       "      <td>Dog</td>\n",
       "      <td>Neutered Male</td>\n",
       "      <td>2 years</td>\n",
       "      <td>Lhasa Apso/Miniature Poodle</td>\n",
       "      <td>Tan</td>\n",
       "    </tr>\n",
       "  </tbody>\n",
       "</table>\n",
       "</div>"
      ],
      "text/plain": [
       "  AnimalID     Name             DateTime      OutcomeType OutcomeSubtype  \\\n",
       "0  A671945  Hambone  2014-02-12 18:22:00  Return_to_owner            NaN   \n",
       "1  A656520    Emily  2013-10-13 12:44:00       Euthanasia      Suffering   \n",
       "2  A686464   Pearce  2015-01-31 12:28:00         Adoption         Foster   \n",
       "3  A683430      NaN  2014-07-11 19:09:00         Transfer        Partner   \n",
       "4  A667013      NaN  2013-11-15 12:52:00         Transfer        Partner   \n",
       "\n",
       "  AnimalType SexuponOutcome AgeuponOutcome                        Breed  \\\n",
       "0        Dog  Neutered Male         1 year        Shetland Sheepdog Mix   \n",
       "1        Cat  Spayed Female         1 year       Domestic Shorthair Mix   \n",
       "2        Dog  Neutered Male        2 years                 Pit Bull Mix   \n",
       "3        Cat    Intact Male        3 weeks       Domestic Shorthair Mix   \n",
       "4        Dog  Neutered Male        2 years  Lhasa Apso/Miniature Poodle   \n",
       "\n",
       "         Color  \n",
       "0  Brown/White  \n",
       "1  Cream Tabby  \n",
       "2   Blue/White  \n",
       "3   Blue Cream  \n",
       "4          Tan  "
      ]
     },
     "execution_count": 10,
     "metadata": {},
     "output_type": "execute_result"
    }
   ],
   "source": [
    "df_train.head()"
   ]
  },
  {
   "cell_type": "code",
   "execution_count": 11,
   "metadata": {
    "collapsed": false
   },
   "outputs": [
    {
     "name": "stdout",
     "output_type": "stream",
     "text": [
      "<class 'pandas.core.frame.DataFrame'>\n",
      "RangeIndex: 26729 entries, 0 to 26728\n",
      "Data columns (total 10 columns):\n",
      "AnimalID          26729 non-null object\n",
      "Name              19038 non-null object\n",
      "DateTime          26729 non-null object\n",
      "OutcomeType       26729 non-null object\n",
      "OutcomeSubtype    13117 non-null object\n",
      "AnimalType        26729 non-null object\n",
      "SexuponOutcome    26728 non-null object\n",
      "AgeuponOutcome    26711 non-null object\n",
      "Breed             26729 non-null object\n",
      "Color             26729 non-null object\n",
      "dtypes: object(10)\n",
      "memory usage: 2.0+ MB\n"
     ]
    }
   ],
   "source": [
    "df_train.info()"
   ]
  },
  {
   "cell_type": "code",
   "execution_count": 12,
   "metadata": {
    "collapsed": false
   },
   "outputs": [
    {
     "data": {
      "text/html": [
       "<div>\n",
       "<table border=\"1\" class=\"dataframe\">\n",
       "  <thead>\n",
       "    <tr style=\"text-align: right;\">\n",
       "      <th></th>\n",
       "      <th>ID</th>\n",
       "      <th>Name</th>\n",
       "      <th>DateTime</th>\n",
       "      <th>AnimalType</th>\n",
       "      <th>SexuponOutcome</th>\n",
       "      <th>AgeuponOutcome</th>\n",
       "      <th>Breed</th>\n",
       "      <th>Color</th>\n",
       "    </tr>\n",
       "  </thead>\n",
       "  <tbody>\n",
       "    <tr>\n",
       "      <th>0</th>\n",
       "      <td>1</td>\n",
       "      <td>Summer</td>\n",
       "      <td>2015-10-12 12:15:00</td>\n",
       "      <td>Dog</td>\n",
       "      <td>Intact Female</td>\n",
       "      <td>10 months</td>\n",
       "      <td>Labrador Retriever Mix</td>\n",
       "      <td>Red/White</td>\n",
       "    </tr>\n",
       "    <tr>\n",
       "      <th>1</th>\n",
       "      <td>2</td>\n",
       "      <td>Cheyenne</td>\n",
       "      <td>2014-07-26 17:59:00</td>\n",
       "      <td>Dog</td>\n",
       "      <td>Spayed Female</td>\n",
       "      <td>2 years</td>\n",
       "      <td>German Shepherd/Siberian Husky</td>\n",
       "      <td>Black/Tan</td>\n",
       "    </tr>\n",
       "    <tr>\n",
       "      <th>2</th>\n",
       "      <td>3</td>\n",
       "      <td>Gus</td>\n",
       "      <td>2016-01-13 12:20:00</td>\n",
       "      <td>Cat</td>\n",
       "      <td>Neutered Male</td>\n",
       "      <td>1 year</td>\n",
       "      <td>Domestic Shorthair Mix</td>\n",
       "      <td>Brown Tabby</td>\n",
       "    </tr>\n",
       "    <tr>\n",
       "      <th>3</th>\n",
       "      <td>4</td>\n",
       "      <td>Pongo</td>\n",
       "      <td>2013-12-28 18:12:00</td>\n",
       "      <td>Dog</td>\n",
       "      <td>Intact Male</td>\n",
       "      <td>4 months</td>\n",
       "      <td>Collie Smooth Mix</td>\n",
       "      <td>Tricolor</td>\n",
       "    </tr>\n",
       "    <tr>\n",
       "      <th>4</th>\n",
       "      <td>5</td>\n",
       "      <td>Skooter</td>\n",
       "      <td>2015-09-24 17:59:00</td>\n",
       "      <td>Dog</td>\n",
       "      <td>Neutered Male</td>\n",
       "      <td>2 years</td>\n",
       "      <td>Miniature Poodle Mix</td>\n",
       "      <td>White</td>\n",
       "    </tr>\n",
       "  </tbody>\n",
       "</table>\n",
       "</div>"
      ],
      "text/plain": [
       "   ID      Name             DateTime AnimalType SexuponOutcome AgeuponOutcome  \\\n",
       "0   1    Summer  2015-10-12 12:15:00        Dog  Intact Female      10 months   \n",
       "1   2  Cheyenne  2014-07-26 17:59:00        Dog  Spayed Female        2 years   \n",
       "2   3       Gus  2016-01-13 12:20:00        Cat  Neutered Male         1 year   \n",
       "3   4     Pongo  2013-12-28 18:12:00        Dog    Intact Male       4 months   \n",
       "4   5   Skooter  2015-09-24 17:59:00        Dog  Neutered Male        2 years   \n",
       "\n",
       "                            Breed        Color  \n",
       "0          Labrador Retriever Mix    Red/White  \n",
       "1  German Shepherd/Siberian Husky    Black/Tan  \n",
       "2          Domestic Shorthair Mix  Brown Tabby  \n",
       "3               Collie Smooth Mix     Tricolor  \n",
       "4            Miniature Poodle Mix        White  "
      ]
     },
     "execution_count": 12,
     "metadata": {},
     "output_type": "execute_result"
    }
   ],
   "source": [
    "df_test.head()"
   ]
  },
  {
   "cell_type": "code",
   "execution_count": 13,
   "metadata": {
    "collapsed": false
   },
   "outputs": [
    {
     "name": "stdout",
     "output_type": "stream",
     "text": [
      "<class 'pandas.core.frame.DataFrame'>\n",
      "RangeIndex: 11456 entries, 0 to 11455\n",
      "Data columns (total 8 columns):\n",
      "ID                11456 non-null int64\n",
      "Name              8231 non-null object\n",
      "DateTime          11456 non-null object\n",
      "AnimalType        11456 non-null object\n",
      "SexuponOutcome    11456 non-null object\n",
      "AgeuponOutcome    11450 non-null object\n",
      "Breed             11456 non-null object\n",
      "Color             11456 non-null object\n",
      "dtypes: int64(1), object(7)\n",
      "memory usage: 716.1+ KB\n"
     ]
    }
   ],
   "source": [
    "df_test.info()"
   ]
  },
  {
   "cell_type": "code",
   "execution_count": 14,
   "metadata": {
    "collapsed": false,
    "scrolled": true
   },
   "outputs": [
    {
     "data": {
      "text/plain": [
       "(26729, 10)"
      ]
     },
     "execution_count": 14,
     "metadata": {},
     "output_type": "execute_result"
    }
   ],
   "source": [
    "df_train.shape"
   ]
  },
  {
   "cell_type": "code",
   "execution_count": 15,
   "metadata": {
    "collapsed": false
   },
   "outputs": [
    {
     "data": {
      "text/plain": [
       "(11456, 8)"
      ]
     },
     "execution_count": 15,
     "metadata": {},
     "output_type": "execute_result"
    }
   ],
   "source": [
    "df_test.shape"
   ]
  },
  {
   "cell_type": "markdown",
   "metadata": {},
   "source": [
    "'OutcomeType' と 'OutcomeSubtype' が予測対象となるラベルっぽいことがわかる。"
   ]
  },
  {
   "cell_type": "code",
   "execution_count": 16,
   "metadata": {
    "collapsed": false
   },
   "outputs": [
    {
     "data": {
      "text/html": [
       "<div>\n",
       "<table border=\"1\" class=\"dataframe\">\n",
       "  <thead>\n",
       "    <tr style=\"text-align: right;\">\n",
       "      <th></th>\n",
       "      <th>AnimalID</th>\n",
       "      <th>Name</th>\n",
       "      <th>DateTime</th>\n",
       "      <th>OutcomeType</th>\n",
       "      <th>OutcomeSubtype</th>\n",
       "      <th>AnimalType</th>\n",
       "      <th>SexuponOutcome</th>\n",
       "      <th>AgeuponOutcome</th>\n",
       "      <th>Breed</th>\n",
       "      <th>Color</th>\n",
       "    </tr>\n",
       "  </thead>\n",
       "  <tbody>\n",
       "    <tr>\n",
       "      <th>count</th>\n",
       "      <td>26729</td>\n",
       "      <td>19038</td>\n",
       "      <td>26729</td>\n",
       "      <td>26729</td>\n",
       "      <td>13117</td>\n",
       "      <td>26729</td>\n",
       "      <td>26728</td>\n",
       "      <td>26711</td>\n",
       "      <td>26729</td>\n",
       "      <td>26729</td>\n",
       "    </tr>\n",
       "    <tr>\n",
       "      <th>unique</th>\n",
       "      <td>26729</td>\n",
       "      <td>6374</td>\n",
       "      <td>22918</td>\n",
       "      <td>5</td>\n",
       "      <td>16</td>\n",
       "      <td>2</td>\n",
       "      <td>5</td>\n",
       "      <td>44</td>\n",
       "      <td>1380</td>\n",
       "      <td>366</td>\n",
       "    </tr>\n",
       "    <tr>\n",
       "      <th>top</th>\n",
       "      <td>A705677</td>\n",
       "      <td>Max</td>\n",
       "      <td>2015-08-11 00:00:00</td>\n",
       "      <td>Adoption</td>\n",
       "      <td>Partner</td>\n",
       "      <td>Dog</td>\n",
       "      <td>Neutered Male</td>\n",
       "      <td>1 year</td>\n",
       "      <td>Domestic Shorthair Mix</td>\n",
       "      <td>Black/White</td>\n",
       "    </tr>\n",
       "    <tr>\n",
       "      <th>freq</th>\n",
       "      <td>1</td>\n",
       "      <td>136</td>\n",
       "      <td>19</td>\n",
       "      <td>10769</td>\n",
       "      <td>7816</td>\n",
       "      <td>15595</td>\n",
       "      <td>9779</td>\n",
       "      <td>3969</td>\n",
       "      <td>8810</td>\n",
       "      <td>2824</td>\n",
       "    </tr>\n",
       "  </tbody>\n",
       "</table>\n",
       "</div>"
      ],
      "text/plain": [
       "       AnimalID   Name             DateTime OutcomeType OutcomeSubtype  \\\n",
       "count     26729  19038                26729       26729          13117   \n",
       "unique    26729   6374                22918           5             16   \n",
       "top     A705677    Max  2015-08-11 00:00:00    Adoption        Partner   \n",
       "freq          1    136                   19       10769           7816   \n",
       "\n",
       "       AnimalType SexuponOutcome AgeuponOutcome                   Breed  \\\n",
       "count       26729          26728          26711                   26729   \n",
       "unique          2              5             44                    1380   \n",
       "top           Dog  Neutered Male         1 year  Domestic Shorthair Mix   \n",
       "freq        15595           9779           3969                    8810   \n",
       "\n",
       "              Color  \n",
       "count         26729  \n",
       "unique          366  \n",
       "top     Black/White  \n",
       "freq           2824  "
      ]
     },
     "execution_count": 16,
     "metadata": {},
     "output_type": "execute_result"
    }
   ],
   "source": [
    "df_train.describe(include='all')"
   ]
  },
  {
   "cell_type": "markdown",
   "metadata": {},
   "source": [
    "'OutcomeType'が最終的に予測するラベルで、OutcomeSubtypeは予測を助けるための補助変数っぽいことがわかる。\n",
    "とりあえず、しばらくは'OutcomeType'を直接求める方針で。"
   ]
  },
  {
   "cell_type": "code",
   "execution_count": 17,
   "metadata": {
    "collapsed": false
   },
   "outputs": [
    {
     "data": {
      "text/html": [
       "<div>\n",
       "<table border=\"1\" class=\"dataframe\">\n",
       "  <thead>\n",
       "    <tr style=\"text-align: right;\">\n",
       "      <th></th>\n",
       "      <th>ID</th>\n",
       "      <th>Name</th>\n",
       "      <th>DateTime</th>\n",
       "      <th>AnimalType</th>\n",
       "      <th>SexuponOutcome</th>\n",
       "      <th>AgeuponOutcome</th>\n",
       "      <th>Breed</th>\n",
       "      <th>Color</th>\n",
       "    </tr>\n",
       "  </thead>\n",
       "  <tbody>\n",
       "    <tr>\n",
       "      <th>count</th>\n",
       "      <td>11456.000000</td>\n",
       "      <td>8231</td>\n",
       "      <td>11456</td>\n",
       "      <td>11456</td>\n",
       "      <td>11456</td>\n",
       "      <td>11450</td>\n",
       "      <td>11456</td>\n",
       "      <td>11456</td>\n",
       "    </tr>\n",
       "    <tr>\n",
       "      <th>unique</th>\n",
       "      <td>NaN</td>\n",
       "      <td>3712</td>\n",
       "      <td>10575</td>\n",
       "      <td>2</td>\n",
       "      <td>5</td>\n",
       "      <td>45</td>\n",
       "      <td>913</td>\n",
       "      <td>277</td>\n",
       "    </tr>\n",
       "    <tr>\n",
       "      <th>top</th>\n",
       "      <td>NaN</td>\n",
       "      <td>Bella</td>\n",
       "      <td>2014-10-20 09:00:00</td>\n",
       "      <td>Dog</td>\n",
       "      <td>Neutered Male</td>\n",
       "      <td>1 year</td>\n",
       "      <td>Domestic Shorthair Mix</td>\n",
       "      <td>Black/White</td>\n",
       "    </tr>\n",
       "    <tr>\n",
       "      <th>freq</th>\n",
       "      <td>NaN</td>\n",
       "      <td>60</td>\n",
       "      <td>8</td>\n",
       "      <td>6656</td>\n",
       "      <td>4235</td>\n",
       "      <td>1768</td>\n",
       "      <td>3777</td>\n",
       "      <td>1219</td>\n",
       "    </tr>\n",
       "    <tr>\n",
       "      <th>mean</th>\n",
       "      <td>5728.500000</td>\n",
       "      <td>NaN</td>\n",
       "      <td>NaN</td>\n",
       "      <td>NaN</td>\n",
       "      <td>NaN</td>\n",
       "      <td>NaN</td>\n",
       "      <td>NaN</td>\n",
       "      <td>NaN</td>\n",
       "    </tr>\n",
       "    <tr>\n",
       "      <th>std</th>\n",
       "      <td>3307.206676</td>\n",
       "      <td>NaN</td>\n",
       "      <td>NaN</td>\n",
       "      <td>NaN</td>\n",
       "      <td>NaN</td>\n",
       "      <td>NaN</td>\n",
       "      <td>NaN</td>\n",
       "      <td>NaN</td>\n",
       "    </tr>\n",
       "    <tr>\n",
       "      <th>min</th>\n",
       "      <td>1.000000</td>\n",
       "      <td>NaN</td>\n",
       "      <td>NaN</td>\n",
       "      <td>NaN</td>\n",
       "      <td>NaN</td>\n",
       "      <td>NaN</td>\n",
       "      <td>NaN</td>\n",
       "      <td>NaN</td>\n",
       "    </tr>\n",
       "    <tr>\n",
       "      <th>25%</th>\n",
       "      <td>2864.750000</td>\n",
       "      <td>NaN</td>\n",
       "      <td>NaN</td>\n",
       "      <td>NaN</td>\n",
       "      <td>NaN</td>\n",
       "      <td>NaN</td>\n",
       "      <td>NaN</td>\n",
       "      <td>NaN</td>\n",
       "    </tr>\n",
       "    <tr>\n",
       "      <th>50%</th>\n",
       "      <td>5728.500000</td>\n",
       "      <td>NaN</td>\n",
       "      <td>NaN</td>\n",
       "      <td>NaN</td>\n",
       "      <td>NaN</td>\n",
       "      <td>NaN</td>\n",
       "      <td>NaN</td>\n",
       "      <td>NaN</td>\n",
       "    </tr>\n",
       "    <tr>\n",
       "      <th>75%</th>\n",
       "      <td>8592.250000</td>\n",
       "      <td>NaN</td>\n",
       "      <td>NaN</td>\n",
       "      <td>NaN</td>\n",
       "      <td>NaN</td>\n",
       "      <td>NaN</td>\n",
       "      <td>NaN</td>\n",
       "      <td>NaN</td>\n",
       "    </tr>\n",
       "    <tr>\n",
       "      <th>max</th>\n",
       "      <td>11456.000000</td>\n",
       "      <td>NaN</td>\n",
       "      <td>NaN</td>\n",
       "      <td>NaN</td>\n",
       "      <td>NaN</td>\n",
       "      <td>NaN</td>\n",
       "      <td>NaN</td>\n",
       "      <td>NaN</td>\n",
       "    </tr>\n",
       "  </tbody>\n",
       "</table>\n",
       "</div>"
      ],
      "text/plain": [
       "                  ID   Name             DateTime AnimalType SexuponOutcome  \\\n",
       "count   11456.000000   8231                11456      11456          11456   \n",
       "unique           NaN   3712                10575          2              5   \n",
       "top              NaN  Bella  2014-10-20 09:00:00        Dog  Neutered Male   \n",
       "freq             NaN     60                    8       6656           4235   \n",
       "mean     5728.500000    NaN                  NaN        NaN            NaN   \n",
       "std      3307.206676    NaN                  NaN        NaN            NaN   \n",
       "min         1.000000    NaN                  NaN        NaN            NaN   \n",
       "25%      2864.750000    NaN                  NaN        NaN            NaN   \n",
       "50%      5728.500000    NaN                  NaN        NaN            NaN   \n",
       "75%      8592.250000    NaN                  NaN        NaN            NaN   \n",
       "max     11456.000000    NaN                  NaN        NaN            NaN   \n",
       "\n",
       "       AgeuponOutcome                   Breed        Color  \n",
       "count           11450                   11456        11456  \n",
       "unique             45                     913          277  \n",
       "top            1 year  Domestic Shorthair Mix  Black/White  \n",
       "freq             1768                    3777         1219  \n",
       "mean              NaN                     NaN          NaN  \n",
       "std               NaN                     NaN          NaN  \n",
       "min               NaN                     NaN          NaN  \n",
       "25%               NaN                     NaN          NaN  \n",
       "50%               NaN                     NaN          NaN  \n",
       "75%               NaN                     NaN          NaN  \n",
       "max               NaN                     NaN          NaN  "
      ]
     },
     "execution_count": 17,
     "metadata": {},
     "output_type": "execute_result"
    }
   ],
   "source": [
    "df_test.describe(include='all')"
   ]
  },
  {
   "cell_type": "code",
   "execution_count": 18,
   "metadata": {
    "collapsed": false,
    "scrolled": true
   },
   "outputs": [
    {
     "data": {
      "text/plain": [
       "AnimalID          object\n",
       "Name              object\n",
       "DateTime          object\n",
       "OutcomeType       object\n",
       "OutcomeSubtype    object\n",
       "AnimalType        object\n",
       "SexuponOutcome    object\n",
       "AgeuponOutcome    object\n",
       "Breed             object\n",
       "Color             object\n",
       "dtype: object"
      ]
     },
     "execution_count": 18,
     "metadata": {},
     "output_type": "execute_result"
    }
   ],
   "source": [
    "df_train.dtypes"
   ]
  },
  {
   "cell_type": "code",
   "execution_count": 19,
   "metadata": {
    "collapsed": false,
    "scrolled": true
   },
   "outputs": [
    {
     "data": {
      "text/plain": [
       "ID                 int64\n",
       "Name              object\n",
       "DateTime          object\n",
       "AnimalType        object\n",
       "SexuponOutcome    object\n",
       "AgeuponOutcome    object\n",
       "Breed             object\n",
       "Color             object\n",
       "dtype: object"
      ]
     },
     "execution_count": 19,
     "metadata": {},
     "output_type": "execute_result"
    }
   ],
   "source": [
    "df_test.dtypes"
   ]
  },
  {
   "cell_type": "markdown",
   "metadata": {},
   "source": [
    "## データの結合\n",
    "\n",
    "- 整形のため（特に欠損値を埋めるため）、トレーニングデータとテストデータを合わせる\n",
    "- 注：本来であればトレーニングデータで得た知見だけを使い、トレーニングデータとテストデータの欠損値を埋めるべきだが、簡単のため今回はこうする"
   ]
  },
  {
   "cell_type": "code",
   "execution_count": 20,
   "metadata": {
    "collapsed": false,
    "scrolled": true
   },
   "outputs": [
    {
     "name": "stdout",
     "output_type": "stream",
     "text": [
      "26729\n",
      "26729\n",
      "11456\n",
      "11456\n"
     ]
    }
   ],
   "source": [
    "# 一応、AnimalIDとIDがユニークな値であることを確認\n",
    "print len(df_train)\n",
    "print len(df_train['AnimalID'].unique())\n",
    "\n",
    "print len(df_test)\n",
    "print len(df_test['ID'].unique())"
   ]
  },
  {
   "cell_type": "code",
   "execution_count": 21,
   "metadata": {
    "collapsed": false
   },
   "outputs": [],
   "source": [
    "# テストデータとの整合性を保つため、トレーニングデータのAnimalIDというカラム名をIDに変更する\n",
    "df_train.rename(columns={'AnimalID': 'ID'}, inplace=True)"
   ]
  },
  {
   "cell_type": "code",
   "execution_count": 22,
   "metadata": {
    "collapsed": false
   },
   "outputs": [],
   "source": [
    "# IDというカラムをインデックスとする\n",
    "df_train.set_index('ID', inplace=True)\n",
    "df_test.set_index('ID', inplace=True)"
   ]
  },
  {
   "cell_type": "code",
   "execution_count": 23,
   "metadata": {
    "collapsed": true
   },
   "outputs": [],
   "source": [
    "# 後でデータを分離しやすいよう、結合前にトレーニングデータとテストデータがわかるようなラベルを振っておく\n",
    "df_train['_data'] = 'train'\n",
    "df_test['_data'] = 'test'"
   ]
  },
  {
   "cell_type": "code",
   "execution_count": 24,
   "metadata": {
    "collapsed": false
   },
   "outputs": [],
   "source": [
    "# データセットを結合する\n",
    "df = pd.concat([df_train, df_test], axis=0)"
   ]
  },
  {
   "cell_type": "code",
   "execution_count": 25,
   "metadata": {
    "collapsed": false
   },
   "outputs": [
    {
     "name": "stdout",
     "output_type": "stream",
     "text": [
      "(38185, 10)\n",
      "(26729, 10)\n",
      "(11456, 8)\n"
     ]
    }
   ],
   "source": [
    "# 一応、データの形をチェック\n",
    "print df.shape\n",
    "print df_train.shape\n",
    "print df_test.shape"
   ]
  },
  {
   "cell_type": "markdown",
   "metadata": {},
   "source": [
    "## 出力特徴量（従属変数）の整形"
   ]
  },
  {
   "cell_type": "code",
   "execution_count": 26,
   "metadata": {
    "collapsed": false,
    "scrolled": true
   },
   "outputs": [
    {
     "name": "stdout",
     "output_type": "stream",
     "text": [
      "<class 'pandas.core.frame.DataFrame'>\n",
      "Index: 38185 entries, A671945 to 11456\n",
      "Data columns (total 10 columns):\n",
      "AgeuponOutcome    38161 non-null object\n",
      "AnimalType        38185 non-null object\n",
      "Breed             38185 non-null object\n",
      "Color             38185 non-null object\n",
      "DateTime          38185 non-null object\n",
      "Name              27269 non-null object\n",
      "OutcomeSubtype    13117 non-null object\n",
      "OutcomeType       26729 non-null object\n",
      "SexuponOutcome    38184 non-null object\n",
      "_data             38185 non-null object\n",
      "dtypes: object(10)\n",
      "memory usage: 3.2+ MB\n"
     ]
    }
   ],
   "source": [
    "# 欠損値に関する情報を得る\n",
    "df.info()"
   ]
  },
  {
   "cell_type": "code",
   "execution_count": 27,
   "metadata": {
    "collapsed": false,
    "scrolled": true
   },
   "outputs": [
    {
     "data": {
      "text/html": [
       "<div>\n",
       "<table border=\"1\" class=\"dataframe\">\n",
       "  <thead>\n",
       "    <tr style=\"text-align: right;\">\n",
       "      <th></th>\n",
       "      <th>ID</th>\n",
       "      <th>Adoption</th>\n",
       "      <th>Died</th>\n",
       "      <th>Euthanasia</th>\n",
       "      <th>Return_to_owner</th>\n",
       "      <th>Transfer</th>\n",
       "    </tr>\n",
       "  </thead>\n",
       "  <tbody>\n",
       "    <tr>\n",
       "      <th>0</th>\n",
       "      <td>1</td>\n",
       "      <td>1</td>\n",
       "      <td>0</td>\n",
       "      <td>0</td>\n",
       "      <td>0</td>\n",
       "      <td>0</td>\n",
       "    </tr>\n",
       "    <tr>\n",
       "      <th>1</th>\n",
       "      <td>2</td>\n",
       "      <td>1</td>\n",
       "      <td>0</td>\n",
       "      <td>0</td>\n",
       "      <td>0</td>\n",
       "      <td>0</td>\n",
       "    </tr>\n",
       "    <tr>\n",
       "      <th>2</th>\n",
       "      <td>3</td>\n",
       "      <td>1</td>\n",
       "      <td>0</td>\n",
       "      <td>0</td>\n",
       "      <td>0</td>\n",
       "      <td>0</td>\n",
       "    </tr>\n",
       "    <tr>\n",
       "      <th>3</th>\n",
       "      <td>4</td>\n",
       "      <td>1</td>\n",
       "      <td>0</td>\n",
       "      <td>0</td>\n",
       "      <td>0</td>\n",
       "      <td>0</td>\n",
       "    </tr>\n",
       "    <tr>\n",
       "      <th>4</th>\n",
       "      <td>5</td>\n",
       "      <td>1</td>\n",
       "      <td>0</td>\n",
       "      <td>0</td>\n",
       "      <td>0</td>\n",
       "      <td>0</td>\n",
       "    </tr>\n",
       "  </tbody>\n",
       "</table>\n",
       "</div>"
      ],
      "text/plain": [
       "   ID  Adoption  Died  Euthanasia  Return_to_owner  Transfer\n",
       "0   1         1     0           0                0         0\n",
       "1   2         1     0           0                0         0\n",
       "2   3         1     0           0                0         0\n",
       "3   4         1     0           0                0         0\n",
       "4   5         1     0           0                0         0"
      ]
     },
     "execution_count": 27,
     "metadata": {},
     "output_type": "execute_result"
    }
   ],
   "source": [
    "df_sub.head()"
   ]
  },
  {
   "cell_type": "code",
   "execution_count": 28,
   "metadata": {
    "collapsed": false,
    "scrolled": true
   },
   "outputs": [
    {
     "data": {
      "text/plain": [
       "{'Adoption': 0,\n",
       " 'Died': 1,\n",
       " 'Euthanasia': 2,\n",
       " 'Return_to_owner': 3,\n",
       " 'Transfer': 4}"
      ]
     },
     "execution_count": 28,
     "metadata": {},
     "output_type": "execute_result"
    }
   ],
   "source": [
    "outcome_labels = ['Adoption', 'Died', 'Euthanasia', 'Return_to_owner', 'Transfer']\n",
    "outcome2id = dict(zip(*[outcome_labels, np.arange(5)]))\n",
    "outcome2id"
   ]
  },
  {
   "cell_type": "code",
   "execution_count": 29,
   "metadata": {
    "collapsed": false
   },
   "outputs": [
    {
     "data": {
      "text/plain": [
       "[('a', 1), ('b', 2)]"
      ]
     },
     "execution_count": 29,
     "metadata": {},
     "output_type": "execute_result"
    }
   ],
   "source": [
    "# zip()の使用例\n",
    "zip(*[['a', 'b'], [1, 2]])"
   ]
  },
  {
   "cell_type": "code",
   "execution_count": 30,
   "metadata": {
    "collapsed": false
   },
   "outputs": [],
   "source": [
    "# 最終的に予測するターゲット\n",
    "df['OutcomeTypeId'] = df['OutcomeType'].map(outcome2id)"
   ]
  },
  {
   "cell_type": "code",
   "execution_count": 31,
   "metadata": {
    "collapsed": true
   },
   "outputs": [],
   "source": [
    "# 使わない変数はこのリストに保持\n",
    "# 後で、df.drop(not_needed, axis=1, inplace=True) とすることで、いらない列を落とせる。\n",
    "# 予測に使用する変数が増えて来たときに活躍する。\n",
    "# 今回は簡単のため、OutcomeSubtypeは無視する。\n",
    "not_needed = ['OutcomeType', 'OutcomeSubtype']"
   ]
  },
  {
   "cell_type": "markdown",
   "metadata": {},
   "source": [
    "## 入力特徴量（独立変数）の整形"
   ]
  },
  {
   "cell_type": "code",
   "execution_count": 127,
   "metadata": {
    "collapsed": false,
    "scrolled": true
   },
   "outputs": [
    {
     "data": {
      "text/html": [
       "<div>\n",
       "<table border=\"1\" class=\"dataframe\">\n",
       "  <thead>\n",
       "    <tr style=\"text-align: right;\">\n",
       "      <th></th>\n",
       "      <th>AgeuponOutcome</th>\n",
       "      <th>AnimalType</th>\n",
       "      <th>Breed</th>\n",
       "      <th>Color</th>\n",
       "      <th>DateTime</th>\n",
       "      <th>Name</th>\n",
       "      <th>OutcomeSubtype</th>\n",
       "      <th>OutcomeType</th>\n",
       "      <th>SexuponOutcome</th>\n",
       "      <th>_data</th>\n",
       "      <th>OutcomeTypeId</th>\n",
       "      <th>AnimalTypeId</th>\n",
       "    </tr>\n",
       "    <tr>\n",
       "      <th>ID</th>\n",
       "      <th></th>\n",
       "      <th></th>\n",
       "      <th></th>\n",
       "      <th></th>\n",
       "      <th></th>\n",
       "      <th></th>\n",
       "      <th></th>\n",
       "      <th></th>\n",
       "      <th></th>\n",
       "      <th></th>\n",
       "      <th></th>\n",
       "      <th></th>\n",
       "    </tr>\n",
       "  </thead>\n",
       "  <tbody>\n",
       "    <tr>\n",
       "      <th>A671945</th>\n",
       "      <td>1 year</td>\n",
       "      <td>Dog</td>\n",
       "      <td>Shetland Sheepdog Mix</td>\n",
       "      <td>Brown/White</td>\n",
       "      <td>2014-02-12 18:22:00</td>\n",
       "      <td>Hambone</td>\n",
       "      <td>NaN</td>\n",
       "      <td>Return_to_owner</td>\n",
       "      <td>Neutered Male</td>\n",
       "      <td>train</td>\n",
       "      <td>3.0</td>\n",
       "      <td>0</td>\n",
       "    </tr>\n",
       "    <tr>\n",
       "      <th>A656520</th>\n",
       "      <td>1 year</td>\n",
       "      <td>Cat</td>\n",
       "      <td>Domestic Shorthair Mix</td>\n",
       "      <td>Cream Tabby</td>\n",
       "      <td>2013-10-13 12:44:00</td>\n",
       "      <td>Emily</td>\n",
       "      <td>Suffering</td>\n",
       "      <td>Euthanasia</td>\n",
       "      <td>Spayed Female</td>\n",
       "      <td>train</td>\n",
       "      <td>2.0</td>\n",
       "      <td>1</td>\n",
       "    </tr>\n",
       "    <tr>\n",
       "      <th>A686464</th>\n",
       "      <td>2 years</td>\n",
       "      <td>Dog</td>\n",
       "      <td>Pit Bull Mix</td>\n",
       "      <td>Blue/White</td>\n",
       "      <td>2015-01-31 12:28:00</td>\n",
       "      <td>Pearce</td>\n",
       "      <td>Foster</td>\n",
       "      <td>Adoption</td>\n",
       "      <td>Neutered Male</td>\n",
       "      <td>train</td>\n",
       "      <td>0.0</td>\n",
       "      <td>0</td>\n",
       "    </tr>\n",
       "    <tr>\n",
       "      <th>A683430</th>\n",
       "      <td>3 weeks</td>\n",
       "      <td>Cat</td>\n",
       "      <td>Domestic Shorthair Mix</td>\n",
       "      <td>Blue Cream</td>\n",
       "      <td>2014-07-11 19:09:00</td>\n",
       "      <td>NaN</td>\n",
       "      <td>Partner</td>\n",
       "      <td>Transfer</td>\n",
       "      <td>Intact Male</td>\n",
       "      <td>train</td>\n",
       "      <td>4.0</td>\n",
       "      <td>1</td>\n",
       "    </tr>\n",
       "    <tr>\n",
       "      <th>A667013</th>\n",
       "      <td>2 years</td>\n",
       "      <td>Dog</td>\n",
       "      <td>Lhasa Apso/Miniature Poodle</td>\n",
       "      <td>Tan</td>\n",
       "      <td>2013-11-15 12:52:00</td>\n",
       "      <td>NaN</td>\n",
       "      <td>Partner</td>\n",
       "      <td>Transfer</td>\n",
       "      <td>Neutered Male</td>\n",
       "      <td>train</td>\n",
       "      <td>4.0</td>\n",
       "      <td>0</td>\n",
       "    </tr>\n",
       "  </tbody>\n",
       "</table>\n",
       "</div>"
      ],
      "text/plain": [
       "        AgeuponOutcome AnimalType                        Breed        Color  \\\n",
       "ID                                                                            \n",
       "A671945         1 year        Dog        Shetland Sheepdog Mix  Brown/White   \n",
       "A656520         1 year        Cat       Domestic Shorthair Mix  Cream Tabby   \n",
       "A686464        2 years        Dog                 Pit Bull Mix   Blue/White   \n",
       "A683430        3 weeks        Cat       Domestic Shorthair Mix   Blue Cream   \n",
       "A667013        2 years        Dog  Lhasa Apso/Miniature Poodle          Tan   \n",
       "\n",
       "                    DateTime     Name OutcomeSubtype      OutcomeType  \\\n",
       "ID                                                                      \n",
       "A671945  2014-02-12 18:22:00  Hambone            NaN  Return_to_owner   \n",
       "A656520  2013-10-13 12:44:00    Emily      Suffering       Euthanasia   \n",
       "A686464  2015-01-31 12:28:00   Pearce         Foster         Adoption   \n",
       "A683430  2014-07-11 19:09:00      NaN        Partner         Transfer   \n",
       "A667013  2013-11-15 12:52:00      NaN        Partner         Transfer   \n",
       "\n",
       "        SexuponOutcome  _data  OutcomeTypeId  AnimalTypeId  \n",
       "ID                                                          \n",
       "A671945  Neutered Male  train            3.0             0  \n",
       "A656520  Spayed Female  train            2.0             1  \n",
       "A686464  Neutered Male  train            0.0             0  \n",
       "A683430    Intact Male  train            4.0             1  \n",
       "A667013  Neutered Male  train            4.0             0  "
      ]
     },
     "execution_count": 127,
     "metadata": {},
     "output_type": "execute_result"
    }
   ],
   "source": [
    "df.head()"
   ]
  },
  {
   "cell_type": "markdown",
   "metadata": {},
   "source": [
    "### AgeuponOutcome"
   ]
  },
  {
   "cell_type": "code",
   "execution_count": 34,
   "metadata": {
    "collapsed": true
   },
   "outputs": [],
   "source": [
    "# not_needed.extend(['AgeuponOutcome'])"
   ]
  },
  {
   "cell_type": "code",
   "execution_count": 140,
   "metadata": {
    "collapsed": false
   },
   "outputs": [
    {
     "data": {
      "text/html": [
       "<div>\n",
       "<table border=\"1\" class=\"dataframe\">\n",
       "  <thead>\n",
       "    <tr style=\"text-align: right;\">\n",
       "      <th></th>\n",
       "      <th>AgeuponOutcome</th>\n",
       "      <th>AnimalType</th>\n",
       "      <th>Breed</th>\n",
       "      <th>Color</th>\n",
       "      <th>DateTime</th>\n",
       "      <th>Name</th>\n",
       "      <th>OutcomeSubtype</th>\n",
       "      <th>OutcomeType</th>\n",
       "      <th>SexuponOutcome</th>\n",
       "      <th>_data</th>\n",
       "      <th>OutcomeTypeId</th>\n",
       "      <th>AnimalTypeId</th>\n",
       "    </tr>\n",
       "    <tr>\n",
       "      <th>ID</th>\n",
       "      <th></th>\n",
       "      <th></th>\n",
       "      <th></th>\n",
       "      <th></th>\n",
       "      <th></th>\n",
       "      <th></th>\n",
       "      <th></th>\n",
       "      <th></th>\n",
       "      <th></th>\n",
       "      <th></th>\n",
       "      <th></th>\n",
       "      <th></th>\n",
       "    </tr>\n",
       "  </thead>\n",
       "  <tbody>\n",
       "    <tr>\n",
       "      <th>A671945</th>\n",
       "      <td>1 year</td>\n",
       "      <td>Dog</td>\n",
       "      <td>Shetland Sheepdog Mix</td>\n",
       "      <td>Brown/White</td>\n",
       "      <td>2014-02-12 18:22:00</td>\n",
       "      <td>Hambone</td>\n",
       "      <td>0</td>\n",
       "      <td>Return_to_owner</td>\n",
       "      <td>Neutered Male</td>\n",
       "      <td>train</td>\n",
       "      <td>3</td>\n",
       "      <td>0</td>\n",
       "    </tr>\n",
       "    <tr>\n",
       "      <th>A656520</th>\n",
       "      <td>1 year</td>\n",
       "      <td>Cat</td>\n",
       "      <td>Domestic Shorthair Mix</td>\n",
       "      <td>Cream Tabby</td>\n",
       "      <td>2013-10-13 12:44:00</td>\n",
       "      <td>Emily</td>\n",
       "      <td>Suffering</td>\n",
       "      <td>Euthanasia</td>\n",
       "      <td>Spayed Female</td>\n",
       "      <td>train</td>\n",
       "      <td>2</td>\n",
       "      <td>1</td>\n",
       "    </tr>\n",
       "    <tr>\n",
       "      <th>A686464</th>\n",
       "      <td>2 years</td>\n",
       "      <td>Dog</td>\n",
       "      <td>Pit Bull Mix</td>\n",
       "      <td>Blue/White</td>\n",
       "      <td>2015-01-31 12:28:00</td>\n",
       "      <td>Pearce</td>\n",
       "      <td>Foster</td>\n",
       "      <td>Adoption</td>\n",
       "      <td>Neutered Male</td>\n",
       "      <td>train</td>\n",
       "      <td>0</td>\n",
       "      <td>0</td>\n",
       "    </tr>\n",
       "    <tr>\n",
       "      <th>A683430</th>\n",
       "      <td>3 weeks</td>\n",
       "      <td>Cat</td>\n",
       "      <td>Domestic Shorthair Mix</td>\n",
       "      <td>Blue Cream</td>\n",
       "      <td>2014-07-11 19:09:00</td>\n",
       "      <td>0</td>\n",
       "      <td>Partner</td>\n",
       "      <td>Transfer</td>\n",
       "      <td>Intact Male</td>\n",
       "      <td>train</td>\n",
       "      <td>4</td>\n",
       "      <td>1</td>\n",
       "    </tr>\n",
       "    <tr>\n",
       "      <th>A667013</th>\n",
       "      <td>2 years</td>\n",
       "      <td>Dog</td>\n",
       "      <td>Lhasa Apso/Miniature Poodle</td>\n",
       "      <td>Tan</td>\n",
       "      <td>2013-11-15 12:52:00</td>\n",
       "      <td>0</td>\n",
       "      <td>Partner</td>\n",
       "      <td>Transfer</td>\n",
       "      <td>Neutered Male</td>\n",
       "      <td>train</td>\n",
       "      <td>4</td>\n",
       "      <td>0</td>\n",
       "    </tr>\n",
       "    <tr>\n",
       "      <th>A677334</th>\n",
       "      <td>1 month</td>\n",
       "      <td>Dog</td>\n",
       "      <td>Cairn Terrier/Chihuahua Shorthair</td>\n",
       "      <td>Black/Tan</td>\n",
       "      <td>2014-04-25 13:04:00</td>\n",
       "      <td>Elsa</td>\n",
       "      <td>Partner</td>\n",
       "      <td>Transfer</td>\n",
       "      <td>Intact Female</td>\n",
       "      <td>train</td>\n",
       "      <td>4</td>\n",
       "      <td>0</td>\n",
       "    </tr>\n",
       "    <tr>\n",
       "      <th>A699218</th>\n",
       "      <td>3 weeks</td>\n",
       "      <td>Cat</td>\n",
       "      <td>Domestic Shorthair Mix</td>\n",
       "      <td>Blue Tabby</td>\n",
       "      <td>2015-03-28 13:11:00</td>\n",
       "      <td>Jimmy</td>\n",
       "      <td>Partner</td>\n",
       "      <td>Transfer</td>\n",
       "      <td>Intact Male</td>\n",
       "      <td>train</td>\n",
       "      <td>4</td>\n",
       "      <td>1</td>\n",
       "    </tr>\n",
       "    <tr>\n",
       "      <th>A701489</th>\n",
       "      <td>3 weeks</td>\n",
       "      <td>Cat</td>\n",
       "      <td>Domestic Shorthair Mix</td>\n",
       "      <td>Brown Tabby</td>\n",
       "      <td>2015-04-30 17:02:00</td>\n",
       "      <td>0</td>\n",
       "      <td>Partner</td>\n",
       "      <td>Transfer</td>\n",
       "      <td>Unknown</td>\n",
       "      <td>train</td>\n",
       "      <td>4</td>\n",
       "      <td>1</td>\n",
       "    </tr>\n",
       "    <tr>\n",
       "      <th>A671784</th>\n",
       "      <td>5 months</td>\n",
       "      <td>Dog</td>\n",
       "      <td>American Pit Bull Terrier Mix</td>\n",
       "      <td>Red/White</td>\n",
       "      <td>2014-02-04 17:17:00</td>\n",
       "      <td>Lucy</td>\n",
       "      <td>0</td>\n",
       "      <td>Adoption</td>\n",
       "      <td>Spayed Female</td>\n",
       "      <td>train</td>\n",
       "      <td>0</td>\n",
       "      <td>0</td>\n",
       "    </tr>\n",
       "    <tr>\n",
       "      <th>A677747</th>\n",
       "      <td>1 year</td>\n",
       "      <td>Dog</td>\n",
       "      <td>Cairn Terrier</td>\n",
       "      <td>White</td>\n",
       "      <td>2014-05-03 07:48:00</td>\n",
       "      <td>0</td>\n",
       "      <td>Offsite</td>\n",
       "      <td>Adoption</td>\n",
       "      <td>Spayed Female</td>\n",
       "      <td>train</td>\n",
       "      <td>0</td>\n",
       "      <td>0</td>\n",
       "    </tr>\n",
       "    <tr>\n",
       "      <th>A668402</th>\n",
       "      <td>2 years</td>\n",
       "      <td>Cat</td>\n",
       "      <td>Domestic Shorthair Mix</td>\n",
       "      <td>Black</td>\n",
       "      <td>2013-12-05 15:50:00</td>\n",
       "      <td>0</td>\n",
       "      <td>SCRP</td>\n",
       "      <td>Transfer</td>\n",
       "      <td>Unknown</td>\n",
       "      <td>train</td>\n",
       "      <td>4</td>\n",
       "      <td>1</td>\n",
       "    </tr>\n",
       "    <tr>\n",
       "      <th>A666320</th>\n",
       "      <td>2 years</td>\n",
       "      <td>Dog</td>\n",
       "      <td>Miniature Schnauzer Mix</td>\n",
       "      <td>Silver</td>\n",
       "      <td>2013-11-04 14:48:00</td>\n",
       "      <td>0</td>\n",
       "      <td>0</td>\n",
       "      <td>Adoption</td>\n",
       "      <td>Spayed Female</td>\n",
       "      <td>train</td>\n",
       "      <td>0</td>\n",
       "      <td>0</td>\n",
       "    </tr>\n",
       "    <tr>\n",
       "      <th>A684601</th>\n",
       "      <td>4 years</td>\n",
       "      <td>Dog</td>\n",
       "      <td>Pit Bull Mix</td>\n",
       "      <td>Brown</td>\n",
       "      <td>2016-02-03 11:27:00</td>\n",
       "      <td>Rocket</td>\n",
       "      <td>Foster</td>\n",
       "      <td>Adoption</td>\n",
       "      <td>Neutered Male</td>\n",
       "      <td>train</td>\n",
       "      <td>0</td>\n",
       "      <td>0</td>\n",
       "    </tr>\n",
       "    <tr>\n",
       "      <th>A704702</th>\n",
       "      <td>2 years</td>\n",
       "      <td>Dog</td>\n",
       "      <td>Yorkshire Terrier Mix</td>\n",
       "      <td>Black/Red</td>\n",
       "      <td>2015-06-08 16:30:00</td>\n",
       "      <td>Scooter</td>\n",
       "      <td>0</td>\n",
       "      <td>Return_to_owner</td>\n",
       "      <td>Neutered Male</td>\n",
       "      <td>train</td>\n",
       "      <td>3</td>\n",
       "      <td>0</td>\n",
       "    </tr>\n",
       "    <tr>\n",
       "      <th>A688584</th>\n",
       "      <td>1 year</td>\n",
       "      <td>Dog</td>\n",
       "      <td>Great Pyrenees Mix</td>\n",
       "      <td>White/Cream</td>\n",
       "      <td>2015-11-25 15:00:00</td>\n",
       "      <td>Preston</td>\n",
       "      <td>0</td>\n",
       "      <td>Return_to_owner</td>\n",
       "      <td>Neutered Male</td>\n",
       "      <td>train</td>\n",
       "      <td>3</td>\n",
       "      <td>0</td>\n",
       "    </tr>\n",
       "    <tr>\n",
       "      <th>A678825</th>\n",
       "      <td>3 months</td>\n",
       "      <td>Cat</td>\n",
       "      <td>Domestic Shorthair Mix</td>\n",
       "      <td>Orange Tabby/White</td>\n",
       "      <td>2014-07-12 12:10:00</td>\n",
       "      <td>Oliver</td>\n",
       "      <td>Foster</td>\n",
       "      <td>Adoption</td>\n",
       "      <td>Neutered Male</td>\n",
       "      <td>train</td>\n",
       "      <td>0</td>\n",
       "      <td>1</td>\n",
       "    </tr>\n",
       "    <tr>\n",
       "      <th>A678050</th>\n",
       "      <td>3 weeks</td>\n",
       "      <td>Cat</td>\n",
       "      <td>Domestic Shorthair Mix</td>\n",
       "      <td>Brown Tabby</td>\n",
       "      <td>2014-05-03 16:15:00</td>\n",
       "      <td>0</td>\n",
       "      <td>Partner</td>\n",
       "      <td>Transfer</td>\n",
       "      <td>Intact Male</td>\n",
       "      <td>train</td>\n",
       "      <td>4</td>\n",
       "      <td>1</td>\n",
       "    </tr>\n",
       "    <tr>\n",
       "      <th>A680028</th>\n",
       "      <td>2 weeks</td>\n",
       "      <td>Dog</td>\n",
       "      <td>Pit Bull Mix</td>\n",
       "      <td>Brown/White</td>\n",
       "      <td>2014-06-07 12:54:00</td>\n",
       "      <td>0</td>\n",
       "      <td>Partner</td>\n",
       "      <td>Transfer</td>\n",
       "      <td>Intact Female</td>\n",
       "      <td>train</td>\n",
       "      <td>4</td>\n",
       "      <td>0</td>\n",
       "    </tr>\n",
       "    <tr>\n",
       "      <th>A679010</th>\n",
       "      <td>2 years</td>\n",
       "      <td>Cat</td>\n",
       "      <td>Angora Mix</td>\n",
       "      <td>White</td>\n",
       "      <td>2014-05-17 11:32:00</td>\n",
       "      <td>Chrissy</td>\n",
       "      <td>Partner</td>\n",
       "      <td>Transfer</td>\n",
       "      <td>Intact Female</td>\n",
       "      <td>train</td>\n",
       "      <td>4</td>\n",
       "      <td>1</td>\n",
       "    </tr>\n",
       "    <tr>\n",
       "      <th>A684787</th>\n",
       "      <td>1 year</td>\n",
       "      <td>Dog</td>\n",
       "      <td>Flat Coat Retriever Mix</td>\n",
       "      <td>Black</td>\n",
       "      <td>2014-07-30 17:34:00</td>\n",
       "      <td>Kuma</td>\n",
       "      <td>0</td>\n",
       "      <td>Return_to_owner</td>\n",
       "      <td>Neutered Male</td>\n",
       "      <td>train</td>\n",
       "      <td>3</td>\n",
       "      <td>0</td>\n",
       "    </tr>\n",
       "    <tr>\n",
       "      <th>A670658</th>\n",
       "      <td>2 months</td>\n",
       "      <td>Dog</td>\n",
       "      <td>Queensland Heeler Mix</td>\n",
       "      <td>Black/White</td>\n",
       "      <td>2014-01-19 15:03:00</td>\n",
       "      <td>Anders</td>\n",
       "      <td>Partner</td>\n",
       "      <td>Transfer</td>\n",
       "      <td>Intact Male</td>\n",
       "      <td>train</td>\n",
       "      <td>4</td>\n",
       "      <td>0</td>\n",
       "    </tr>\n",
       "    <tr>\n",
       "      <th>A708812</th>\n",
       "      <td>1 year</td>\n",
       "      <td>Cat</td>\n",
       "      <td>Domestic Shorthair Mix</td>\n",
       "      <td>White</td>\n",
       "      <td>2015-09-18 15:19:00</td>\n",
       "      <td>Munchkin</td>\n",
       "      <td>Partner</td>\n",
       "      <td>Transfer</td>\n",
       "      <td>Spayed Female</td>\n",
       "      <td>train</td>\n",
       "      <td>4</td>\n",
       "      <td>1</td>\n",
       "    </tr>\n",
       "    <tr>\n",
       "      <th>A705262</th>\n",
       "      <td>2 years</td>\n",
       "      <td>Dog</td>\n",
       "      <td>Plott Hound/Boxer</td>\n",
       "      <td>Brown Brindle/White</td>\n",
       "      <td>2015-08-15 14:22:00</td>\n",
       "      <td>Jamaica</td>\n",
       "      <td>0</td>\n",
       "      <td>Adoption</td>\n",
       "      <td>Spayed Female</td>\n",
       "      <td>train</td>\n",
       "      <td>0</td>\n",
       "      <td>0</td>\n",
       "    </tr>\n",
       "    <tr>\n",
       "      <th>A665781</th>\n",
       "      <td>10 months</td>\n",
       "      <td>Dog</td>\n",
       "      <td>German Shepherd Mix</td>\n",
       "      <td>Brown/White</td>\n",
       "      <td>2013-10-28 16:32:00</td>\n",
       "      <td>Quattro</td>\n",
       "      <td>0</td>\n",
       "      <td>Adoption</td>\n",
       "      <td>Neutered Male</td>\n",
       "      <td>train</td>\n",
       "      <td>0</td>\n",
       "      <td>0</td>\n",
       "    </tr>\n",
       "    <tr>\n",
       "      <th>A676333</th>\n",
       "      <td>2 months</td>\n",
       "      <td>Dog</td>\n",
       "      <td>German Shepherd Mix</td>\n",
       "      <td>Black/Brown</td>\n",
       "      <td>2014-04-09 17:44:00</td>\n",
       "      <td>Trigger</td>\n",
       "      <td>0</td>\n",
       "      <td>Return_to_owner</td>\n",
       "      <td>Neutered Male</td>\n",
       "      <td>train</td>\n",
       "      <td>3</td>\n",
       "      <td>0</td>\n",
       "    </tr>\n",
       "    <tr>\n",
       "      <th>A712750</th>\n",
       "      <td>1 month</td>\n",
       "      <td>Cat</td>\n",
       "      <td>Domestic Shorthair Mix</td>\n",
       "      <td>Orange Tabby</td>\n",
       "      <td>2015-10-03 15:44:00</td>\n",
       "      <td>Olive</td>\n",
       "      <td>Partner</td>\n",
       "      <td>Transfer</td>\n",
       "      <td>Intact Female</td>\n",
       "      <td>train</td>\n",
       "      <td>4</td>\n",
       "      <td>1</td>\n",
       "    </tr>\n",
       "    <tr>\n",
       "      <th>A718832</th>\n",
       "      <td>6 months</td>\n",
       "      <td>Dog</td>\n",
       "      <td>American Staffordshire Terrier Mix</td>\n",
       "      <td>Chocolate/White</td>\n",
       "      <td>2016-01-15 17:31:00</td>\n",
       "      <td>Nia</td>\n",
       "      <td>0</td>\n",
       "      <td>Adoption</td>\n",
       "      <td>Spayed Female</td>\n",
       "      <td>train</td>\n",
       "      <td>0</td>\n",
       "      <td>0</td>\n",
       "    </tr>\n",
       "    <tr>\n",
       "      <th>A698777</th>\n",
       "      <td>5 years</td>\n",
       "      <td>Dog</td>\n",
       "      <td>Chihuahua Shorthair Mix</td>\n",
       "      <td>White/Tan</td>\n",
       "      <td>2015-03-25 18:50:00</td>\n",
       "      <td>Chloe</td>\n",
       "      <td>0</td>\n",
       "      <td>Adoption</td>\n",
       "      <td>Spayed Female</td>\n",
       "      <td>train</td>\n",
       "      <td>0</td>\n",
       "      <td>0</td>\n",
       "    </tr>\n",
       "    <tr>\n",
       "      <th>A715348</th>\n",
       "      <td>2 months</td>\n",
       "      <td>Cat</td>\n",
       "      <td>Domestic Shorthair Mix</td>\n",
       "      <td>Cream Tabby/White</td>\n",
       "      <td>2015-11-21 13:01:00</td>\n",
       "      <td>Cymbale</td>\n",
       "      <td>0</td>\n",
       "      <td>Adoption</td>\n",
       "      <td>Spayed Female</td>\n",
       "      <td>train</td>\n",
       "      <td>0</td>\n",
       "      <td>1</td>\n",
       "    </tr>\n",
       "    <tr>\n",
       "      <th>A708666</th>\n",
       "      <td>7 years</td>\n",
       "      <td>Cat</td>\n",
       "      <td>Russian Blue Mix</td>\n",
       "      <td>Blue</td>\n",
       "      <td>2015-07-30 14:30:00</td>\n",
       "      <td>Jax</td>\n",
       "      <td>0</td>\n",
       "      <td>Return_to_owner</td>\n",
       "      <td>Neutered Male</td>\n",
       "      <td>train</td>\n",
       "      <td>3</td>\n",
       "      <td>1</td>\n",
       "    </tr>\n",
       "    <tr>\n",
       "      <th>...</th>\n",
       "      <td>...</td>\n",
       "      <td>...</td>\n",
       "      <td>...</td>\n",
       "      <td>...</td>\n",
       "      <td>...</td>\n",
       "      <td>...</td>\n",
       "      <td>...</td>\n",
       "      <td>...</td>\n",
       "      <td>...</td>\n",
       "      <td>...</td>\n",
       "      <td>...</td>\n",
       "      <td>...</td>\n",
       "    </tr>\n",
       "    <tr>\n",
       "      <th>11427</th>\n",
       "      <td>5 years</td>\n",
       "      <td>Dog</td>\n",
       "      <td>Boxer Mix</td>\n",
       "      <td>Brown/White</td>\n",
       "      <td>2013-12-28 14:22:00</td>\n",
       "      <td>Fatboy</td>\n",
       "      <td>0</td>\n",
       "      <td>0</td>\n",
       "      <td>Neutered Male</td>\n",
       "      <td>test</td>\n",
       "      <td>0</td>\n",
       "      <td>0</td>\n",
       "    </tr>\n",
       "    <tr>\n",
       "      <th>11428</th>\n",
       "      <td>2 months</td>\n",
       "      <td>Dog</td>\n",
       "      <td>American Pit Bull Terrier Mix</td>\n",
       "      <td>Brown Brindle</td>\n",
       "      <td>2013-12-21 15:55:00</td>\n",
       "      <td>Calypso</td>\n",
       "      <td>0</td>\n",
       "      <td>0</td>\n",
       "      <td>Intact Female</td>\n",
       "      <td>test</td>\n",
       "      <td>0</td>\n",
       "      <td>0</td>\n",
       "    </tr>\n",
       "    <tr>\n",
       "      <th>11429</th>\n",
       "      <td>3 years</td>\n",
       "      <td>Dog</td>\n",
       "      <td>Siberian Husky</td>\n",
       "      <td>Red/White</td>\n",
       "      <td>2013-11-15 12:32:00</td>\n",
       "      <td>Bolt</td>\n",
       "      <td>0</td>\n",
       "      <td>0</td>\n",
       "      <td>Neutered Male</td>\n",
       "      <td>test</td>\n",
       "      <td>0</td>\n",
       "      <td>0</td>\n",
       "    </tr>\n",
       "    <tr>\n",
       "      <th>11430</th>\n",
       "      <td>2 years</td>\n",
       "      <td>Dog</td>\n",
       "      <td>German Shepherd Mix</td>\n",
       "      <td>Sable</td>\n",
       "      <td>2014-02-17 18:04:00</td>\n",
       "      <td>Mary</td>\n",
       "      <td>0</td>\n",
       "      <td>0</td>\n",
       "      <td>Spayed Female</td>\n",
       "      <td>test</td>\n",
       "      <td>0</td>\n",
       "      <td>0</td>\n",
       "    </tr>\n",
       "    <tr>\n",
       "      <th>11431</th>\n",
       "      <td>2 months</td>\n",
       "      <td>Cat</td>\n",
       "      <td>Domestic Shorthair Mix</td>\n",
       "      <td>Blue</td>\n",
       "      <td>2014-12-08 12:40:00</td>\n",
       "      <td>0</td>\n",
       "      <td>0</td>\n",
       "      <td>0</td>\n",
       "      <td>Spayed Female</td>\n",
       "      <td>test</td>\n",
       "      <td>0</td>\n",
       "      <td>1</td>\n",
       "    </tr>\n",
       "    <tr>\n",
       "      <th>11432</th>\n",
       "      <td>2 years</td>\n",
       "      <td>Cat</td>\n",
       "      <td>Domestic Shorthair Mix</td>\n",
       "      <td>Blue Tabby/White</td>\n",
       "      <td>2015-06-30 09:00:00</td>\n",
       "      <td>0</td>\n",
       "      <td>0</td>\n",
       "      <td>0</td>\n",
       "      <td>Intact Male</td>\n",
       "      <td>test</td>\n",
       "      <td>0</td>\n",
       "      <td>1</td>\n",
       "    </tr>\n",
       "    <tr>\n",
       "      <th>11433</th>\n",
       "      <td>5 years</td>\n",
       "      <td>Dog</td>\n",
       "      <td>Maltese</td>\n",
       "      <td>White</td>\n",
       "      <td>2014-03-21 17:33:00</td>\n",
       "      <td>Fiona</td>\n",
       "      <td>0</td>\n",
       "      <td>0</td>\n",
       "      <td>Spayed Female</td>\n",
       "      <td>test</td>\n",
       "      <td>0</td>\n",
       "      <td>0</td>\n",
       "    </tr>\n",
       "    <tr>\n",
       "      <th>11434</th>\n",
       "      <td>2 months</td>\n",
       "      <td>Cat</td>\n",
       "      <td>Domestic Shorthair Mix</td>\n",
       "      <td>Black/White</td>\n",
       "      <td>2015-08-16 16:40:00</td>\n",
       "      <td>Evanna</td>\n",
       "      <td>0</td>\n",
       "      <td>0</td>\n",
       "      <td>Intact Female</td>\n",
       "      <td>test</td>\n",
       "      <td>0</td>\n",
       "      <td>1</td>\n",
       "    </tr>\n",
       "    <tr>\n",
       "      <th>11435</th>\n",
       "      <td>6 years</td>\n",
       "      <td>Dog</td>\n",
       "      <td>Cardigan Welsh Corgi/German Shepherd</td>\n",
       "      <td>Black/Tan</td>\n",
       "      <td>2015-09-06 12:41:00</td>\n",
       "      <td>April</td>\n",
       "      <td>0</td>\n",
       "      <td>0</td>\n",
       "      <td>Spayed Female</td>\n",
       "      <td>test</td>\n",
       "      <td>0</td>\n",
       "      <td>0</td>\n",
       "    </tr>\n",
       "    <tr>\n",
       "      <th>11436</th>\n",
       "      <td>3 weeks</td>\n",
       "      <td>Cat</td>\n",
       "      <td>Domestic Shorthair Mix</td>\n",
       "      <td>Brown Tabby</td>\n",
       "      <td>2015-08-13 17:09:00</td>\n",
       "      <td>0</td>\n",
       "      <td>0</td>\n",
       "      <td>0</td>\n",
       "      <td>Intact Male</td>\n",
       "      <td>test</td>\n",
       "      <td>0</td>\n",
       "      <td>1</td>\n",
       "    </tr>\n",
       "    <tr>\n",
       "      <th>11437</th>\n",
       "      <td>5 months</td>\n",
       "      <td>Cat</td>\n",
       "      <td>Domestic Shorthair Mix</td>\n",
       "      <td>Black/White</td>\n",
       "      <td>2014-03-21 17:42:00</td>\n",
       "      <td>0</td>\n",
       "      <td>0</td>\n",
       "      <td>0</td>\n",
       "      <td>Neutered Male</td>\n",
       "      <td>test</td>\n",
       "      <td>0</td>\n",
       "      <td>1</td>\n",
       "    </tr>\n",
       "    <tr>\n",
       "      <th>11438</th>\n",
       "      <td>6 months</td>\n",
       "      <td>Dog</td>\n",
       "      <td>Chihuahua Longhair/Dachshund</td>\n",
       "      <td>White/Tan</td>\n",
       "      <td>2014-01-10 13:46:00</td>\n",
       "      <td>Peludita</td>\n",
       "      <td>0</td>\n",
       "      <td>0</td>\n",
       "      <td>Intact Female</td>\n",
       "      <td>test</td>\n",
       "      <td>0</td>\n",
       "      <td>0</td>\n",
       "    </tr>\n",
       "    <tr>\n",
       "      <th>11439</th>\n",
       "      <td>1 month</td>\n",
       "      <td>Dog</td>\n",
       "      <td>Labrador Retriever Mix</td>\n",
       "      <td>Sable</td>\n",
       "      <td>2015-05-02 20:40:00</td>\n",
       "      <td>0</td>\n",
       "      <td>0</td>\n",
       "      <td>0</td>\n",
       "      <td>Neutered Male</td>\n",
       "      <td>test</td>\n",
       "      <td>0</td>\n",
       "      <td>0</td>\n",
       "    </tr>\n",
       "    <tr>\n",
       "      <th>11440</th>\n",
       "      <td>2 years</td>\n",
       "      <td>Dog</td>\n",
       "      <td>Pit Bull Mix</td>\n",
       "      <td>White/Brown</td>\n",
       "      <td>2014-05-18 16:47:00</td>\n",
       "      <td>Socks</td>\n",
       "      <td>0</td>\n",
       "      <td>0</td>\n",
       "      <td>Spayed Female</td>\n",
       "      <td>test</td>\n",
       "      <td>0</td>\n",
       "      <td>0</td>\n",
       "    </tr>\n",
       "    <tr>\n",
       "      <th>11441</th>\n",
       "      <td>1 week</td>\n",
       "      <td>Cat</td>\n",
       "      <td>Domestic Shorthair Mix</td>\n",
       "      <td>Brown Tabby</td>\n",
       "      <td>2015-10-20 17:13:00</td>\n",
       "      <td>0</td>\n",
       "      <td>0</td>\n",
       "      <td>0</td>\n",
       "      <td>Unknown</td>\n",
       "      <td>test</td>\n",
       "      <td>0</td>\n",
       "      <td>1</td>\n",
       "    </tr>\n",
       "    <tr>\n",
       "      <th>11442</th>\n",
       "      <td>4 years</td>\n",
       "      <td>Dog</td>\n",
       "      <td>Pit Bull Mix</td>\n",
       "      <td>Blue/White</td>\n",
       "      <td>2015-01-07 17:41:00</td>\n",
       "      <td>Doogie</td>\n",
       "      <td>0</td>\n",
       "      <td>0</td>\n",
       "      <td>Neutered Male</td>\n",
       "      <td>test</td>\n",
       "      <td>0</td>\n",
       "      <td>0</td>\n",
       "    </tr>\n",
       "    <tr>\n",
       "      <th>11443</th>\n",
       "      <td>2 years</td>\n",
       "      <td>Dog</td>\n",
       "      <td>Chihuahua Shorthair Mix</td>\n",
       "      <td>Tan/White</td>\n",
       "      <td>2015-11-28 16:23:00</td>\n",
       "      <td>Sterling</td>\n",
       "      <td>0</td>\n",
       "      <td>0</td>\n",
       "      <td>Neutered Male</td>\n",
       "      <td>test</td>\n",
       "      <td>0</td>\n",
       "      <td>0</td>\n",
       "    </tr>\n",
       "    <tr>\n",
       "      <th>11444</th>\n",
       "      <td>6 months</td>\n",
       "      <td>Cat</td>\n",
       "      <td>Domestic Longhair Mix</td>\n",
       "      <td>Torbie</td>\n",
       "      <td>2014-10-04 12:17:00</td>\n",
       "      <td>Bella</td>\n",
       "      <td>0</td>\n",
       "      <td>0</td>\n",
       "      <td>Spayed Female</td>\n",
       "      <td>test</td>\n",
       "      <td>0</td>\n",
       "      <td>1</td>\n",
       "    </tr>\n",
       "    <tr>\n",
       "      <th>11445</th>\n",
       "      <td>2 years</td>\n",
       "      <td>Cat</td>\n",
       "      <td>Domestic Shorthair Mix</td>\n",
       "      <td>Calico</td>\n",
       "      <td>2014-06-01 17:15:00</td>\n",
       "      <td>0</td>\n",
       "      <td>0</td>\n",
       "      <td>0</td>\n",
       "      <td>Intact Female</td>\n",
       "      <td>test</td>\n",
       "      <td>0</td>\n",
       "      <td>1</td>\n",
       "    </tr>\n",
       "    <tr>\n",
       "      <th>11446</th>\n",
       "      <td>2 weeks</td>\n",
       "      <td>Cat</td>\n",
       "      <td>Domestic Shorthair Mix</td>\n",
       "      <td>White</td>\n",
       "      <td>2015-04-14 14:34:00</td>\n",
       "      <td>0</td>\n",
       "      <td>0</td>\n",
       "      <td>0</td>\n",
       "      <td>Intact Male</td>\n",
       "      <td>test</td>\n",
       "      <td>0</td>\n",
       "      <td>1</td>\n",
       "    </tr>\n",
       "    <tr>\n",
       "      <th>11447</th>\n",
       "      <td>2 months</td>\n",
       "      <td>Cat</td>\n",
       "      <td>Domestic Shorthair Mix</td>\n",
       "      <td>Black</td>\n",
       "      <td>2015-07-19 20:03:00</td>\n",
       "      <td>0</td>\n",
       "      <td>0</td>\n",
       "      <td>0</td>\n",
       "      <td>Neutered Male</td>\n",
       "      <td>test</td>\n",
       "      <td>0</td>\n",
       "      <td>1</td>\n",
       "    </tr>\n",
       "    <tr>\n",
       "      <th>11448</th>\n",
       "      <td>1 year</td>\n",
       "      <td>Dog</td>\n",
       "      <td>Chihuahua Longhair Mix</td>\n",
       "      <td>Orange/Tan</td>\n",
       "      <td>2014-10-19 12:21:00</td>\n",
       "      <td>Sadie</td>\n",
       "      <td>0</td>\n",
       "      <td>0</td>\n",
       "      <td>Spayed Female</td>\n",
       "      <td>test</td>\n",
       "      <td>0</td>\n",
       "      <td>0</td>\n",
       "    </tr>\n",
       "    <tr>\n",
       "      <th>11449</th>\n",
       "      <td>2 months</td>\n",
       "      <td>Dog</td>\n",
       "      <td>Labrador Retriever Mix</td>\n",
       "      <td>Brown</td>\n",
       "      <td>2014-08-17 17:48:00</td>\n",
       "      <td>0</td>\n",
       "      <td>0</td>\n",
       "      <td>0</td>\n",
       "      <td>Spayed Female</td>\n",
       "      <td>test</td>\n",
       "      <td>0</td>\n",
       "      <td>0</td>\n",
       "    </tr>\n",
       "    <tr>\n",
       "      <th>11450</th>\n",
       "      <td>6 months</td>\n",
       "      <td>Dog</td>\n",
       "      <td>Bearded Collie Mix</td>\n",
       "      <td>Blue Merle/White</td>\n",
       "      <td>2015-07-20 14:55:00</td>\n",
       "      <td>Caicos</td>\n",
       "      <td>0</td>\n",
       "      <td>0</td>\n",
       "      <td>Spayed Female</td>\n",
       "      <td>test</td>\n",
       "      <td>0</td>\n",
       "      <td>0</td>\n",
       "    </tr>\n",
       "    <tr>\n",
       "      <th>11451</th>\n",
       "      <td>10 months</td>\n",
       "      <td>Dog</td>\n",
       "      <td>Staffordshire Mix</td>\n",
       "      <td>Tan/White</td>\n",
       "      <td>2015-11-05 17:19:00</td>\n",
       "      <td>Cosmo</td>\n",
       "      <td>0</td>\n",
       "      <td>0</td>\n",
       "      <td>Neutered Male</td>\n",
       "      <td>test</td>\n",
       "      <td>0</td>\n",
       "      <td>0</td>\n",
       "    </tr>\n",
       "    <tr>\n",
       "      <th>11452</th>\n",
       "      <td>2 months</td>\n",
       "      <td>Cat</td>\n",
       "      <td>Domestic Shorthair Mix</td>\n",
       "      <td>Black</td>\n",
       "      <td>2014-07-08 14:50:00</td>\n",
       "      <td>0</td>\n",
       "      <td>0</td>\n",
       "      <td>0</td>\n",
       "      <td>Neutered Male</td>\n",
       "      <td>test</td>\n",
       "      <td>0</td>\n",
       "      <td>1</td>\n",
       "    </tr>\n",
       "    <tr>\n",
       "      <th>11453</th>\n",
       "      <td>2 weeks</td>\n",
       "      <td>Cat</td>\n",
       "      <td>Domestic Shorthair Mix</td>\n",
       "      <td>Blue</td>\n",
       "      <td>2014-10-21 12:57:00</td>\n",
       "      <td>0</td>\n",
       "      <td>0</td>\n",
       "      <td>0</td>\n",
       "      <td>Intact Female</td>\n",
       "      <td>test</td>\n",
       "      <td>0</td>\n",
       "      <td>1</td>\n",
       "    </tr>\n",
       "    <tr>\n",
       "      <th>11454</th>\n",
       "      <td>1 year</td>\n",
       "      <td>Cat</td>\n",
       "      <td>Domestic Shorthair Mix</td>\n",
       "      <td>Calico</td>\n",
       "      <td>2014-09-29 09:00:00</td>\n",
       "      <td>0</td>\n",
       "      <td>0</td>\n",
       "      <td>0</td>\n",
       "      <td>Intact Female</td>\n",
       "      <td>test</td>\n",
       "      <td>0</td>\n",
       "      <td>1</td>\n",
       "    </tr>\n",
       "    <tr>\n",
       "      <th>11455</th>\n",
       "      <td>6 years</td>\n",
       "      <td>Dog</td>\n",
       "      <td>German Shepherd Mix</td>\n",
       "      <td>Black/Tan</td>\n",
       "      <td>2015-09-05 17:16:00</td>\n",
       "      <td>Rambo</td>\n",
       "      <td>0</td>\n",
       "      <td>0</td>\n",
       "      <td>Neutered Male</td>\n",
       "      <td>test</td>\n",
       "      <td>0</td>\n",
       "      <td>0</td>\n",
       "    </tr>\n",
       "    <tr>\n",
       "      <th>11456</th>\n",
       "      <td>4 years</td>\n",
       "      <td>Dog</td>\n",
       "      <td>Labrador Retriever</td>\n",
       "      <td>Cream</td>\n",
       "      <td>2014-07-12 18:40:00</td>\n",
       "      <td>Gusto</td>\n",
       "      <td>0</td>\n",
       "      <td>0</td>\n",
       "      <td>Intact Male</td>\n",
       "      <td>test</td>\n",
       "      <td>0</td>\n",
       "      <td>0</td>\n",
       "    </tr>\n",
       "  </tbody>\n",
       "</table>\n",
       "<p>38185 rows × 12 columns</p>\n",
       "</div>"
      ],
      "text/plain": [
       "        AgeuponOutcome AnimalType                                 Breed  \\\n",
       "ID                                                                        \n",
       "A671945         1 year        Dog                 Shetland Sheepdog Mix   \n",
       "A656520         1 year        Cat                Domestic Shorthair Mix   \n",
       "A686464        2 years        Dog                          Pit Bull Mix   \n",
       "A683430        3 weeks        Cat                Domestic Shorthair Mix   \n",
       "A667013        2 years        Dog           Lhasa Apso/Miniature Poodle   \n",
       "A677334        1 month        Dog     Cairn Terrier/Chihuahua Shorthair   \n",
       "A699218        3 weeks        Cat                Domestic Shorthair Mix   \n",
       "A701489        3 weeks        Cat                Domestic Shorthair Mix   \n",
       "A671784       5 months        Dog         American Pit Bull Terrier Mix   \n",
       "A677747         1 year        Dog                         Cairn Terrier   \n",
       "A668402        2 years        Cat                Domestic Shorthair Mix   \n",
       "A666320        2 years        Dog               Miniature Schnauzer Mix   \n",
       "A684601        4 years        Dog                          Pit Bull Mix   \n",
       "A704702        2 years        Dog                 Yorkshire Terrier Mix   \n",
       "A688584         1 year        Dog                    Great Pyrenees Mix   \n",
       "A678825       3 months        Cat                Domestic Shorthair Mix   \n",
       "A678050        3 weeks        Cat                Domestic Shorthair Mix   \n",
       "A680028        2 weeks        Dog                          Pit Bull Mix   \n",
       "A679010        2 years        Cat                            Angora Mix   \n",
       "A684787         1 year        Dog               Flat Coat Retriever Mix   \n",
       "A670658       2 months        Dog                 Queensland Heeler Mix   \n",
       "A708812         1 year        Cat                Domestic Shorthair Mix   \n",
       "A705262        2 years        Dog                     Plott Hound/Boxer   \n",
       "A665781      10 months        Dog                   German Shepherd Mix   \n",
       "A676333       2 months        Dog                   German Shepherd Mix   \n",
       "A712750        1 month        Cat                Domestic Shorthair Mix   \n",
       "A718832       6 months        Dog    American Staffordshire Terrier Mix   \n",
       "A698777        5 years        Dog               Chihuahua Shorthair Mix   \n",
       "A715348       2 months        Cat                Domestic Shorthair Mix   \n",
       "A708666        7 years        Cat                      Russian Blue Mix   \n",
       "...                ...        ...                                   ...   \n",
       "11427          5 years        Dog                             Boxer Mix   \n",
       "11428         2 months        Dog         American Pit Bull Terrier Mix   \n",
       "11429          3 years        Dog                        Siberian Husky   \n",
       "11430          2 years        Dog                   German Shepherd Mix   \n",
       "11431         2 months        Cat                Domestic Shorthair Mix   \n",
       "11432          2 years        Cat                Domestic Shorthair Mix   \n",
       "11433          5 years        Dog                               Maltese   \n",
       "11434         2 months        Cat                Domestic Shorthair Mix   \n",
       "11435          6 years        Dog  Cardigan Welsh Corgi/German Shepherd   \n",
       "11436          3 weeks        Cat                Domestic Shorthair Mix   \n",
       "11437         5 months        Cat                Domestic Shorthair Mix   \n",
       "11438         6 months        Dog          Chihuahua Longhair/Dachshund   \n",
       "11439          1 month        Dog                Labrador Retriever Mix   \n",
       "11440          2 years        Dog                          Pit Bull Mix   \n",
       "11441           1 week        Cat                Domestic Shorthair Mix   \n",
       "11442          4 years        Dog                          Pit Bull Mix   \n",
       "11443          2 years        Dog               Chihuahua Shorthair Mix   \n",
       "11444         6 months        Cat                 Domestic Longhair Mix   \n",
       "11445          2 years        Cat                Domestic Shorthair Mix   \n",
       "11446          2 weeks        Cat                Domestic Shorthair Mix   \n",
       "11447         2 months        Cat                Domestic Shorthair Mix   \n",
       "11448           1 year        Dog                Chihuahua Longhair Mix   \n",
       "11449         2 months        Dog                Labrador Retriever Mix   \n",
       "11450         6 months        Dog                    Bearded Collie Mix   \n",
       "11451        10 months        Dog                     Staffordshire Mix   \n",
       "11452         2 months        Cat                Domestic Shorthair Mix   \n",
       "11453          2 weeks        Cat                Domestic Shorthair Mix   \n",
       "11454           1 year        Cat                Domestic Shorthair Mix   \n",
       "11455          6 years        Dog                   German Shepherd Mix   \n",
       "11456          4 years        Dog                    Labrador Retriever   \n",
       "\n",
       "                       Color             DateTime      Name OutcomeSubtype  \\\n",
       "ID                                                                           \n",
       "A671945          Brown/White  2014-02-12 18:22:00   Hambone              0   \n",
       "A656520          Cream Tabby  2013-10-13 12:44:00     Emily      Suffering   \n",
       "A686464           Blue/White  2015-01-31 12:28:00    Pearce         Foster   \n",
       "A683430           Blue Cream  2014-07-11 19:09:00         0        Partner   \n",
       "A667013                  Tan  2013-11-15 12:52:00         0        Partner   \n",
       "A677334            Black/Tan  2014-04-25 13:04:00      Elsa        Partner   \n",
       "A699218           Blue Tabby  2015-03-28 13:11:00     Jimmy        Partner   \n",
       "A701489          Brown Tabby  2015-04-30 17:02:00         0        Partner   \n",
       "A671784            Red/White  2014-02-04 17:17:00      Lucy              0   \n",
       "A677747                White  2014-05-03 07:48:00         0        Offsite   \n",
       "A668402                Black  2013-12-05 15:50:00         0           SCRP   \n",
       "A666320               Silver  2013-11-04 14:48:00         0              0   \n",
       "A684601                Brown  2016-02-03 11:27:00    Rocket         Foster   \n",
       "A704702            Black/Red  2015-06-08 16:30:00   Scooter              0   \n",
       "A688584          White/Cream  2015-11-25 15:00:00   Preston              0   \n",
       "A678825   Orange Tabby/White  2014-07-12 12:10:00    Oliver         Foster   \n",
       "A678050          Brown Tabby  2014-05-03 16:15:00         0        Partner   \n",
       "A680028          Brown/White  2014-06-07 12:54:00         0        Partner   \n",
       "A679010                White  2014-05-17 11:32:00   Chrissy        Partner   \n",
       "A684787                Black  2014-07-30 17:34:00      Kuma              0   \n",
       "A670658          Black/White  2014-01-19 15:03:00    Anders        Partner   \n",
       "A708812                White  2015-09-18 15:19:00  Munchkin        Partner   \n",
       "A705262  Brown Brindle/White  2015-08-15 14:22:00   Jamaica              0   \n",
       "A665781          Brown/White  2013-10-28 16:32:00   Quattro              0   \n",
       "A676333          Black/Brown  2014-04-09 17:44:00   Trigger              0   \n",
       "A712750         Orange Tabby  2015-10-03 15:44:00     Olive        Partner   \n",
       "A718832      Chocolate/White  2016-01-15 17:31:00       Nia              0   \n",
       "A698777            White/Tan  2015-03-25 18:50:00     Chloe              0   \n",
       "A715348    Cream Tabby/White  2015-11-21 13:01:00   Cymbale              0   \n",
       "A708666                 Blue  2015-07-30 14:30:00       Jax              0   \n",
       "...                      ...                  ...       ...            ...   \n",
       "11427            Brown/White  2013-12-28 14:22:00    Fatboy              0   \n",
       "11428          Brown Brindle  2013-12-21 15:55:00   Calypso              0   \n",
       "11429              Red/White  2013-11-15 12:32:00      Bolt              0   \n",
       "11430                  Sable  2014-02-17 18:04:00      Mary              0   \n",
       "11431                   Blue  2014-12-08 12:40:00         0              0   \n",
       "11432       Blue Tabby/White  2015-06-30 09:00:00         0              0   \n",
       "11433                  White  2014-03-21 17:33:00     Fiona              0   \n",
       "11434            Black/White  2015-08-16 16:40:00    Evanna              0   \n",
       "11435              Black/Tan  2015-09-06 12:41:00     April              0   \n",
       "11436            Brown Tabby  2015-08-13 17:09:00         0              0   \n",
       "11437            Black/White  2014-03-21 17:42:00         0              0   \n",
       "11438              White/Tan  2014-01-10 13:46:00  Peludita              0   \n",
       "11439                  Sable  2015-05-02 20:40:00         0              0   \n",
       "11440            White/Brown  2014-05-18 16:47:00     Socks              0   \n",
       "11441            Brown Tabby  2015-10-20 17:13:00         0              0   \n",
       "11442             Blue/White  2015-01-07 17:41:00    Doogie              0   \n",
       "11443              Tan/White  2015-11-28 16:23:00  Sterling              0   \n",
       "11444                 Torbie  2014-10-04 12:17:00     Bella              0   \n",
       "11445                 Calico  2014-06-01 17:15:00         0              0   \n",
       "11446                  White  2015-04-14 14:34:00         0              0   \n",
       "11447                  Black  2015-07-19 20:03:00         0              0   \n",
       "11448             Orange/Tan  2014-10-19 12:21:00     Sadie              0   \n",
       "11449                  Brown  2014-08-17 17:48:00         0              0   \n",
       "11450       Blue Merle/White  2015-07-20 14:55:00    Caicos              0   \n",
       "11451              Tan/White  2015-11-05 17:19:00     Cosmo              0   \n",
       "11452                  Black  2014-07-08 14:50:00         0              0   \n",
       "11453                   Blue  2014-10-21 12:57:00         0              0   \n",
       "11454                 Calico  2014-09-29 09:00:00         0              0   \n",
       "11455              Black/Tan  2015-09-05 17:16:00     Rambo              0   \n",
       "11456                  Cream  2014-07-12 18:40:00     Gusto              0   \n",
       "\n",
       "             OutcomeType SexuponOutcome  _data OutcomeTypeId  AnimalTypeId  \n",
       "ID                                                                          \n",
       "A671945  Return_to_owner  Neutered Male  train             3             0  \n",
       "A656520       Euthanasia  Spayed Female  train             2             1  \n",
       "A686464         Adoption  Neutered Male  train             0             0  \n",
       "A683430         Transfer    Intact Male  train             4             1  \n",
       "A667013         Transfer  Neutered Male  train             4             0  \n",
       "A677334         Transfer  Intact Female  train             4             0  \n",
       "A699218         Transfer    Intact Male  train             4             1  \n",
       "A701489         Transfer        Unknown  train             4             1  \n",
       "A671784         Adoption  Spayed Female  train             0             0  \n",
       "A677747         Adoption  Spayed Female  train             0             0  \n",
       "A668402         Transfer        Unknown  train             4             1  \n",
       "A666320         Adoption  Spayed Female  train             0             0  \n",
       "A684601         Adoption  Neutered Male  train             0             0  \n",
       "A704702  Return_to_owner  Neutered Male  train             3             0  \n",
       "A688584  Return_to_owner  Neutered Male  train             3             0  \n",
       "A678825         Adoption  Neutered Male  train             0             1  \n",
       "A678050         Transfer    Intact Male  train             4             1  \n",
       "A680028         Transfer  Intact Female  train             4             0  \n",
       "A679010         Transfer  Intact Female  train             4             1  \n",
       "A684787  Return_to_owner  Neutered Male  train             3             0  \n",
       "A670658         Transfer    Intact Male  train             4             0  \n",
       "A708812         Transfer  Spayed Female  train             4             1  \n",
       "A705262         Adoption  Spayed Female  train             0             0  \n",
       "A665781         Adoption  Neutered Male  train             0             0  \n",
       "A676333  Return_to_owner  Neutered Male  train             3             0  \n",
       "A712750         Transfer  Intact Female  train             4             1  \n",
       "A718832         Adoption  Spayed Female  train             0             0  \n",
       "A698777         Adoption  Spayed Female  train             0             0  \n",
       "A715348         Adoption  Spayed Female  train             0             1  \n",
       "A708666  Return_to_owner  Neutered Male  train             3             1  \n",
       "...                  ...            ...    ...           ...           ...  \n",
       "11427                  0  Neutered Male   test             0             0  \n",
       "11428                  0  Intact Female   test             0             0  \n",
       "11429                  0  Neutered Male   test             0             0  \n",
       "11430                  0  Spayed Female   test             0             0  \n",
       "11431                  0  Spayed Female   test             0             1  \n",
       "11432                  0    Intact Male   test             0             1  \n",
       "11433                  0  Spayed Female   test             0             0  \n",
       "11434                  0  Intact Female   test             0             1  \n",
       "11435                  0  Spayed Female   test             0             0  \n",
       "11436                  0    Intact Male   test             0             1  \n",
       "11437                  0  Neutered Male   test             0             1  \n",
       "11438                  0  Intact Female   test             0             0  \n",
       "11439                  0  Neutered Male   test             0             0  \n",
       "11440                  0  Spayed Female   test             0             0  \n",
       "11441                  0        Unknown   test             0             1  \n",
       "11442                  0  Neutered Male   test             0             0  \n",
       "11443                  0  Neutered Male   test             0             0  \n",
       "11444                  0  Spayed Female   test             0             1  \n",
       "11445                  0  Intact Female   test             0             1  \n",
       "11446                  0    Intact Male   test             0             1  \n",
       "11447                  0  Neutered Male   test             0             1  \n",
       "11448                  0  Spayed Female   test             0             0  \n",
       "11449                  0  Spayed Female   test             0             0  \n",
       "11450                  0  Spayed Female   test             0             0  \n",
       "11451                  0  Neutered Male   test             0             0  \n",
       "11452                  0  Neutered Male   test             0             1  \n",
       "11453                  0  Intact Female   test             0             1  \n",
       "11454                  0  Intact Female   test             0             1  \n",
       "11455                  0  Neutered Male   test             0             0  \n",
       "11456                  0    Intact Male   test             0             0  \n",
       "\n",
       "[38185 rows x 12 columns]"
      ]
     },
     "execution_count": 140,
     "metadata": {},
     "output_type": "execute_result"
    }
   ],
   "source": [
    "df.drop(\"AgeDays\", axis=1)"
   ]
  },
  {
   "cell_type": "code",
   "execution_count": 139,
   "metadata": {
    "collapsed": false
   },
   "outputs": [
    {
     "ename": "IndexError",
     "evalue": "list index out of range",
     "output_type": "error",
     "traceback": [
      "\u001b[0;31m---------------------------------------------------------------------------\u001b[0m",
      "\u001b[0;31mIndexError\u001b[0m                                Traceback (most recent call last)",
      "\u001b[0;32m<ipython-input-139-b68d040dd172>\u001b[0m in \u001b[0;36m<module>\u001b[0;34m()\u001b[0m\n\u001b[1;32m     18\u001b[0m \u001b[0;34m\u001b[0m\u001b[0m\n\u001b[1;32m     19\u001b[0m \u001b[0mdf\u001b[0m\u001b[0;34m.\u001b[0m\u001b[0mdrop\u001b[0m\u001b[0;34m(\u001b[0m\u001b[0;34m\"AgeDays\"\u001b[0m\u001b[0;34m,\u001b[0m \u001b[0maxis\u001b[0m\u001b[0;34m=\u001b[0m\u001b[0;36m1\u001b[0m\u001b[0;34m)\u001b[0m\u001b[0;34m\u001b[0m\u001b[0m\n\u001b[0;32m---> 20\u001b[0;31m \u001b[0mdf\u001b[0m\u001b[0;34m[\u001b[0m\u001b[0;34m'AgeDays'\u001b[0m\u001b[0;34m]\u001b[0m \u001b[0;34m=\u001b[0m \u001b[0mdf\u001b[0m\u001b[0;34m[\u001b[0m\u001b[0;34m~\u001b[0m\u001b[0mdf\u001b[0m\u001b[0;34m[\u001b[0m\u001b[0;34m'AgeuponOutcome'\u001b[0m\u001b[0;34m]\u001b[0m\u001b[0;34m.\u001b[0m\u001b[0misnull\u001b[0m\u001b[0;34m(\u001b[0m\u001b[0;34m)\u001b[0m\u001b[0;34m]\u001b[0m\u001b[0;34m[\u001b[0m\u001b[0;34m'AgeuponOutcome'\u001b[0m\u001b[0;34m]\u001b[0m\u001b[0;34m.\u001b[0m\u001b[0mapply\u001b[0m\u001b[0;34m(\u001b[0m\u001b[0;32mlambda\u001b[0m \u001b[0mx\u001b[0m\u001b[0;34m:\u001b[0m \u001b[0mx_date\u001b[0m\u001b[0;34m(\u001b[0m\u001b[0mx\u001b[0m\u001b[0;34m)\u001b[0m\u001b[0;34m)\u001b[0m\u001b[0;34m\u001b[0m\u001b[0m\n\u001b[0m\u001b[1;32m     21\u001b[0m \u001b[0;34m\u001b[0m\u001b[0m\n\u001b[1;32m     22\u001b[0m \u001b[0;31m# NaN値を０に変更\u001b[0m\u001b[0;34m\u001b[0m\u001b[0;34m\u001b[0m\u001b[0m\n",
      "\u001b[0;32m/Users/tetsuhiro/.pyenv/versions/anaconda-2.4.0/lib/python2.7/site-packages/pandas/core/series.pyc\u001b[0m in \u001b[0;36mapply\u001b[0;34m(self, func, convert_dtype, args, **kwds)\u001b[0m\n\u001b[1;32m   2218\u001b[0m         \u001b[0;32melse\u001b[0m\u001b[0;34m:\u001b[0m\u001b[0;34m\u001b[0m\u001b[0m\n\u001b[1;32m   2219\u001b[0m             \u001b[0mvalues\u001b[0m \u001b[0;34m=\u001b[0m \u001b[0mself\u001b[0m\u001b[0;34m.\u001b[0m\u001b[0masobject\u001b[0m\u001b[0;34m\u001b[0m\u001b[0m\n\u001b[0;32m-> 2220\u001b[0;31m             \u001b[0mmapped\u001b[0m \u001b[0;34m=\u001b[0m \u001b[0mlib\u001b[0m\u001b[0;34m.\u001b[0m\u001b[0mmap_infer\u001b[0m\u001b[0;34m(\u001b[0m\u001b[0mvalues\u001b[0m\u001b[0;34m,\u001b[0m \u001b[0mf\u001b[0m\u001b[0;34m,\u001b[0m \u001b[0mconvert\u001b[0m\u001b[0;34m=\u001b[0m\u001b[0mconvert_dtype\u001b[0m\u001b[0;34m)\u001b[0m\u001b[0;34m\u001b[0m\u001b[0m\n\u001b[0m\u001b[1;32m   2221\u001b[0m \u001b[0;34m\u001b[0m\u001b[0m\n\u001b[1;32m   2222\u001b[0m         \u001b[0;32mif\u001b[0m \u001b[0mlen\u001b[0m\u001b[0;34m(\u001b[0m\u001b[0mmapped\u001b[0m\u001b[0;34m)\u001b[0m \u001b[0;32mand\u001b[0m \u001b[0misinstance\u001b[0m\u001b[0;34m(\u001b[0m\u001b[0mmapped\u001b[0m\u001b[0;34m[\u001b[0m\u001b[0;36m0\u001b[0m\u001b[0;34m]\u001b[0m\u001b[0;34m,\u001b[0m \u001b[0mSeries\u001b[0m\u001b[0;34m)\u001b[0m\u001b[0;34m:\u001b[0m\u001b[0;34m\u001b[0m\u001b[0m\n",
      "\u001b[0;32mpandas/src/inference.pyx\u001b[0m in \u001b[0;36mpandas.lib.map_infer (pandas/lib.c:62658)\u001b[0;34m()\u001b[0m\n",
      "\u001b[0;32m<ipython-input-139-b68d040dd172>\u001b[0m in \u001b[0;36m<lambda>\u001b[0;34m(x)\u001b[0m\n\u001b[1;32m     18\u001b[0m \u001b[0;34m\u001b[0m\u001b[0m\n\u001b[1;32m     19\u001b[0m \u001b[0mdf\u001b[0m\u001b[0;34m.\u001b[0m\u001b[0mdrop\u001b[0m\u001b[0;34m(\u001b[0m\u001b[0;34m\"AgeDays\"\u001b[0m\u001b[0;34m,\u001b[0m \u001b[0maxis\u001b[0m\u001b[0;34m=\u001b[0m\u001b[0;36m1\u001b[0m\u001b[0;34m)\u001b[0m\u001b[0;34m\u001b[0m\u001b[0m\n\u001b[0;32m---> 20\u001b[0;31m \u001b[0mdf\u001b[0m\u001b[0;34m[\u001b[0m\u001b[0;34m'AgeDays'\u001b[0m\u001b[0;34m]\u001b[0m \u001b[0;34m=\u001b[0m \u001b[0mdf\u001b[0m\u001b[0;34m[\u001b[0m\u001b[0;34m~\u001b[0m\u001b[0mdf\u001b[0m\u001b[0;34m[\u001b[0m\u001b[0;34m'AgeuponOutcome'\u001b[0m\u001b[0;34m]\u001b[0m\u001b[0;34m.\u001b[0m\u001b[0misnull\u001b[0m\u001b[0;34m(\u001b[0m\u001b[0;34m)\u001b[0m\u001b[0;34m]\u001b[0m\u001b[0;34m[\u001b[0m\u001b[0;34m'AgeuponOutcome'\u001b[0m\u001b[0;34m]\u001b[0m\u001b[0;34m.\u001b[0m\u001b[0mapply\u001b[0m\u001b[0;34m(\u001b[0m\u001b[0;32mlambda\u001b[0m \u001b[0mx\u001b[0m\u001b[0;34m:\u001b[0m \u001b[0mx_date\u001b[0m\u001b[0;34m(\u001b[0m\u001b[0mx\u001b[0m\u001b[0;34m)\u001b[0m\u001b[0;34m)\u001b[0m\u001b[0;34m\u001b[0m\u001b[0m\n\u001b[0m\u001b[1;32m     21\u001b[0m \u001b[0;34m\u001b[0m\u001b[0m\n\u001b[1;32m     22\u001b[0m \u001b[0;31m# NaN値を０に変更\u001b[0m\u001b[0;34m\u001b[0m\u001b[0;34m\u001b[0m\u001b[0m\n",
      "\u001b[0;32m<ipython-input-139-b68d040dd172>\u001b[0m in \u001b[0;36mx_date\u001b[0;34m(string)\u001b[0m\n\u001b[1;32m      5\u001b[0m     \u001b[0m_list\u001b[0m \u001b[0;34m=\u001b[0m \u001b[0mstring\u001b[0m\u001b[0;34m.\u001b[0m\u001b[0mstrip\u001b[0m\u001b[0;34m(\u001b[0m\u001b[0;34m)\u001b[0m\u001b[0;34m.\u001b[0m\u001b[0msplit\u001b[0m\u001b[0;34m(\u001b[0m\u001b[0;34m' '\u001b[0m\u001b[0;34m)\u001b[0m\u001b[0;34m\u001b[0m\u001b[0m\n\u001b[1;32m      6\u001b[0m     \u001b[0minteger\u001b[0m \u001b[0;34m=\u001b[0m \u001b[0m_list\u001b[0m\u001b[0;34m[\u001b[0m\u001b[0;36m0\u001b[0m\u001b[0;34m]\u001b[0m\u001b[0;34m\u001b[0m\u001b[0m\n\u001b[0;32m----> 7\u001b[0;31m     \u001b[0munit\u001b[0m \u001b[0;34m=\u001b[0m \u001b[0m_list\u001b[0m\u001b[0;34m[\u001b[0m\u001b[0;36m1\u001b[0m\u001b[0;34m]\u001b[0m\u001b[0;34m\u001b[0m\u001b[0m\n\u001b[0m\u001b[1;32m      8\u001b[0m     \u001b[0munit_integer\u001b[0m \u001b[0;34m=\u001b[0m \u001b[0;36m0\u001b[0m\u001b[0;34m\u001b[0m\u001b[0m\n\u001b[1;32m      9\u001b[0m     \u001b[0;32mif\u001b[0m \u001b[0mre\u001b[0m\u001b[0;34m.\u001b[0m\u001b[0mmatch\u001b[0m\u001b[0;34m(\u001b[0m\u001b[0;34m'year.+'\u001b[0m\u001b[0;34m,\u001b[0m \u001b[0munit\u001b[0m\u001b[0;34m)\u001b[0m\u001b[0;34m:\u001b[0m\u001b[0;34m\u001b[0m\u001b[0m\n",
      "\u001b[0;31mIndexError\u001b[0m: list index out of range"
     ]
    }
   ],
   "source": [
    "# たましろさんがかいた\n",
    "import re\n",
    "\n",
    "def x_date(string):\n",
    "    _list = string.strip().split(' ')\n",
    "    integer = _list[0]\n",
    "    unit = _list[1]\n",
    "    unit_integer = 0\n",
    "    if re.match('year.+', unit):\n",
    "        unit_integer = 365\n",
    "    elif re.match('month.+', unit):\n",
    "        unit_integer = 30\n",
    "    elif re.match('week.+', unit):\n",
    "        unit_integer = 7\n",
    "        \n",
    "        return int(integer) * unit_integer\n",
    "\n",
    "df['AgeDays'] = df[~df['AgeuponOutcome'].isnull()]['AgeuponOutcome'].apply(lambda x: x_date(x))\n",
    "\n",
    "# NaN値を０に変更\n",
    "# df.fillna('0')"
   ]
  },
  {
   "cell_type": "code",
   "execution_count": 133,
   "metadata": {
    "collapsed": false
   },
   "outputs": [
    {
     "data": {
      "text/plain": [
       "ID\n",
       "A671945     NaN\n",
       "A656520     NaN\n",
       "A686464     NaN\n",
       "A683430    21.0\n",
       "A667013     NaN\n",
       "A677334     NaN\n",
       "A699218    21.0\n",
       "A701489    21.0\n",
       "A671784     NaN\n",
       "A677747     NaN\n",
       "A668402     NaN\n",
       "A666320     NaN\n",
       "A684601     NaN\n",
       "A704702     NaN\n",
       "A688584     NaN\n",
       "A678825     NaN\n",
       "A678050    21.0\n",
       "A680028    14.0\n",
       "A679010     NaN\n",
       "A684787     NaN\n",
       "A670658     NaN\n",
       "A708812     NaN\n",
       "A705262     NaN\n",
       "A665781     NaN\n",
       "A676333     NaN\n",
       "A712750     NaN\n",
       "A718832     NaN\n",
       "A698777     NaN\n",
       "A715348     NaN\n",
       "A708666     NaN\n",
       "           ... \n",
       "11427       NaN\n",
       "11428       NaN\n",
       "11429       NaN\n",
       "11430       NaN\n",
       "11431       NaN\n",
       "11432       NaN\n",
       "11433       NaN\n",
       "11434       NaN\n",
       "11435       NaN\n",
       "11436      21.0\n",
       "11437       NaN\n",
       "11438       NaN\n",
       "11439       NaN\n",
       "11440       NaN\n",
       "11441       NaN\n",
       "11442       NaN\n",
       "11443       NaN\n",
       "11444       NaN\n",
       "11445       NaN\n",
       "11446      14.0\n",
       "11447       NaN\n",
       "11448       NaN\n",
       "11449       NaN\n",
       "11450       NaN\n",
       "11451       NaN\n",
       "11452       NaN\n",
       "11453      14.0\n",
       "11454       NaN\n",
       "11455       NaN\n",
       "11456       NaN\n",
       "Name: AgeDays, dtype: float64"
      ]
     },
     "execution_count": 133,
     "metadata": {},
     "output_type": "execute_result"
    }
   ],
   "source": [
    "df['AgeDays']"
   ]
  },
  {
   "cell_type": "code",
   "execution_count": 123,
   "metadata": {
    "collapsed": false
   },
   "outputs": [
    {
     "data": {
      "text/plain": [
       "['OutcomeType',\n",
       " 'OutcomeSubtype',\n",
       " 'AgeuponOutcome',\n",
       " 'AnimalType',\n",
       " 'breed',\n",
       " 'Color',\n",
       " 'DateTime',\n",
       " 'Name',\n",
       " 'SexuponOutcome',\n",
       " 'Breed']"
      ]
     },
     "execution_count": 123,
     "metadata": {},
     "output_type": "execute_result"
    }
   ],
   "source": [
    "not_needed"
   ]
  },
  {
   "cell_type": "markdown",
   "metadata": {},
   "source": [
    "### AnimalType"
   ]
  },
  {
   "cell_type": "code",
   "execution_count": 36,
   "metadata": {
    "collapsed": false,
    "scrolled": true
   },
   "outputs": [
    {
     "data": {
      "text/plain": [
       "ID\n",
       "A671945    Dog\n",
       "A656520    Cat\n",
       "A686464    Dog\n",
       "A683430    Cat\n",
       "A667013    Dog\n",
       "A677334    Dog\n",
       "A699218    Cat\n",
       "A701489    Cat\n",
       "A671784    Dog\n",
       "A677747    Dog\n",
       "A668402    Cat\n",
       "A666320    Dog\n",
       "A684601    Dog\n",
       "A704702    Dog\n",
       "A688584    Dog\n",
       "A678825    Cat\n",
       "A678050    Cat\n",
       "A680028    Dog\n",
       "A679010    Cat\n",
       "A684787    Dog\n",
       "A670658    Dog\n",
       "A708812    Cat\n",
       "A705262    Dog\n",
       "A665781    Dog\n",
       "A676333    Dog\n",
       "A712750    Cat\n",
       "A718832    Dog\n",
       "A698777    Dog\n",
       "A715348    Cat\n",
       "A708666    Cat\n",
       "          ... \n",
       "11427      Dog\n",
       "11428      Dog\n",
       "11429      Dog\n",
       "11430      Dog\n",
       "11431      Cat\n",
       "11432      Cat\n",
       "11433      Dog\n",
       "11434      Cat\n",
       "11435      Dog\n",
       "11436      Cat\n",
       "11437      Cat\n",
       "11438      Dog\n",
       "11439      Dog\n",
       "11440      Dog\n",
       "11441      Cat\n",
       "11442      Dog\n",
       "11443      Dog\n",
       "11444      Cat\n",
       "11445      Cat\n",
       "11446      Cat\n",
       "11447      Cat\n",
       "11448      Dog\n",
       "11449      Dog\n",
       "11450      Dog\n",
       "11451      Dog\n",
       "11452      Cat\n",
       "11453      Cat\n",
       "11454      Cat\n",
       "11455      Dog\n",
       "11456      Dog\n",
       "Name: AnimalType, dtype: object"
      ]
     },
     "execution_count": 36,
     "metadata": {},
     "output_type": "execute_result"
    }
   ],
   "source": [
    "# 生データを眺める\n",
    "df['AnimalType']"
   ]
  },
  {
   "cell_type": "code",
   "execution_count": 37,
   "metadata": {
    "collapsed": false,
    "scrolled": true
   },
   "outputs": [
    {
     "name": "stdout",
     "output_type": "stream",
     "text": [
      "<class 'pandas.core.frame.DataFrame'>\n",
      "Index: 38185 entries, A671945 to 11456\n",
      "Data columns (total 1 columns):\n",
      "AnimalType    38185 non-null object\n",
      "dtypes: object(1)\n",
      "memory usage: 596.6+ KB\n"
     ]
    }
   ],
   "source": [
    "# 欠損値に関する情報を得る\n",
    "df[['AnimalType']].info()"
   ]
  },
  {
   "cell_type": "code",
   "execution_count": 38,
   "metadata": {
    "collapsed": false
   },
   "outputs": [
    {
     "data": {
      "text/plain": [
       "Dog    22251\n",
       "Cat    15934\n",
       "Name: AnimalType, dtype: int64"
      ]
     },
     "execution_count": 38,
     "metadata": {},
     "output_type": "execute_result"
    }
   ],
   "source": [
    "# 犬と猫の数を調べる\n",
    "df['AnimalType'].value_counts()"
   ]
  },
  {
   "cell_type": "code",
   "execution_count": 39,
   "metadata": {
    "collapsed": false,
    "scrolled": true
   },
   "outputs": [
    {
     "data": {
      "text/html": [
       "<div>\n",
       "<table border=\"1\" class=\"dataframe\">\n",
       "  <thead>\n",
       "    <tr style=\"text-align: right;\">\n",
       "      <th>AnimalType</th>\n",
       "      <th>Cat</th>\n",
       "      <th>Dog</th>\n",
       "    </tr>\n",
       "    <tr>\n",
       "      <th>OutcomeType</th>\n",
       "      <th></th>\n",
       "      <th></th>\n",
       "    </tr>\n",
       "  </thead>\n",
       "  <tbody>\n",
       "    <tr>\n",
       "      <th>Adoption</th>\n",
       "      <td>4272</td>\n",
       "      <td>6497</td>\n",
       "    </tr>\n",
       "    <tr>\n",
       "      <th>Died</th>\n",
       "      <td>147</td>\n",
       "      <td>50</td>\n",
       "    </tr>\n",
       "    <tr>\n",
       "      <th>Euthanasia</th>\n",
       "      <td>710</td>\n",
       "      <td>845</td>\n",
       "    </tr>\n",
       "    <tr>\n",
       "      <th>Return_to_owner</th>\n",
       "      <td>500</td>\n",
       "      <td>4286</td>\n",
       "    </tr>\n",
       "    <tr>\n",
       "      <th>Transfer</th>\n",
       "      <td>5505</td>\n",
       "      <td>3917</td>\n",
       "    </tr>\n",
       "  </tbody>\n",
       "</table>\n",
       "</div>"
      ],
      "text/plain": [
       "AnimalType        Cat   Dog\n",
       "OutcomeType                \n",
       "Adoption         4272  6497\n",
       "Died              147    50\n",
       "Euthanasia        710   845\n",
       "Return_to_owner   500  4286\n",
       "Transfer         5505  3917"
      ]
     },
     "execution_count": 39,
     "metadata": {},
     "output_type": "execute_result"
    }
   ],
   "source": [
    "# 犬と猫でどう違うのか見る\n",
    "pt = df.pivot_table(values='_data', columns='OutcomeType', index='AnimalType', aggfunc=lambda x: len(x))\n",
    "pt = pt.T\n",
    "pt"
   ]
  },
  {
   "cell_type": "code",
   "execution_count": 40,
   "metadata": {
    "collapsed": false
   },
   "outputs": [
    {
     "data": {
      "text/plain": [
       "<matplotlib.axes._subplots.AxesSubplot at 0x115938d90>"
      ]
     },
     "execution_count": 40,
     "metadata": {},
     "output_type": "execute_result"
    },
    {
     "data": {
      "image/png": "[encoded data removed]",
      "text/plain": [
       "<matplotlib.figure.Figure at 0x115c6aad0>"
      ]
     },
     "metadata": {},
     "output_type": "display_data"
    }
   ],
   "source": [
    "# 　描画\n",
    "pt.plot()"
   ]
  },
  {
   "cell_type": "code",
   "execution_count": 41,
   "metadata": {
    "collapsed": false
   },
   "outputs": [
    {
     "data": {
      "text/html": [
       "<div>\n",
       "<table border=\"1\" class=\"dataframe\">\n",
       "  <thead>\n",
       "    <tr style=\"text-align: right;\">\n",
       "      <th>AnimalType</th>\n",
       "      <th>Cat</th>\n",
       "      <th>Dog</th>\n",
       "    </tr>\n",
       "    <tr>\n",
       "      <th>OutcomeType</th>\n",
       "      <th></th>\n",
       "      <th></th>\n",
       "    </tr>\n",
       "  </thead>\n",
       "  <tbody>\n",
       "    <tr>\n",
       "      <th>Adoption</th>\n",
       "      <td>0.383690</td>\n",
       "      <td>0.416608</td>\n",
       "    </tr>\n",
       "    <tr>\n",
       "      <th>Died</th>\n",
       "      <td>0.013203</td>\n",
       "      <td>0.003206</td>\n",
       "    </tr>\n",
       "    <tr>\n",
       "      <th>Euthanasia</th>\n",
       "      <td>0.063769</td>\n",
       "      <td>0.054184</td>\n",
       "    </tr>\n",
       "    <tr>\n",
       "      <th>Return_to_owner</th>\n",
       "      <td>0.044907</td>\n",
       "      <td>0.274832</td>\n",
       "    </tr>\n",
       "    <tr>\n",
       "      <th>Transfer</th>\n",
       "      <td>0.494431</td>\n",
       "      <td>0.251170</td>\n",
       "    </tr>\n",
       "  </tbody>\n",
       "</table>\n",
       "</div>"
      ],
      "text/plain": [
       "AnimalType            Cat       Dog\n",
       "OutcomeType                        \n",
       "Adoption         0.383690  0.416608\n",
       "Died             0.013203  0.003206\n",
       "Euthanasia       0.063769  0.054184\n",
       "Return_to_owner  0.044907  0.274832\n",
       "Transfer         0.494431  0.251170"
      ]
     },
     "execution_count": 41,
     "metadata": {},
     "output_type": "execute_result"
    }
   ],
   "source": [
    "# 猫と犬、それぞれにおけるターゲットの割合を計算\n",
    "pt2 = pt / pt.sum()\n",
    "pt2"
   ]
  },
  {
   "cell_type": "code",
   "execution_count": 42,
   "metadata": {
    "collapsed": false
   },
   "outputs": [
    {
     "data": {
      "text/plain": [
       "<matplotlib.axes._subplots.AxesSubplot at 0x1170facd0>"
      ]
     },
     "execution_count": 42,
     "metadata": {},
     "output_type": "execute_result"
    },
    {
     "data": {
      "image/png": "[encoded data removed]",
      "text/plain": [
       "<matplotlib.figure.Figure at 0x117271b90>"
      ]
     },
     "metadata": {},
     "output_type": "display_data"
    }
   ],
   "source": [
    "pt2.plot()"
   ]
  },
  {
   "cell_type": "code",
   "execution_count": 43,
   "metadata": {
    "collapsed": false
   },
   "outputs": [
    {
     "data": {
      "text/html": [
       "<div>\n",
       "<table border=\"1\" class=\"dataframe\">\n",
       "  <thead>\n",
       "    <tr style=\"text-align: right;\">\n",
       "      <th>AnimalType</th>\n",
       "      <th>Cat</th>\n",
       "      <th>Dog</th>\n",
       "    </tr>\n",
       "    <tr>\n",
       "      <th>OutcomeType</th>\n",
       "      <th></th>\n",
       "      <th></th>\n",
       "    </tr>\n",
       "  </thead>\n",
       "  <tbody>\n",
       "    <tr>\n",
       "      <th>Adoption</th>\n",
       "      <td>0.383690</td>\n",
       "      <td>0.416608</td>\n",
       "    </tr>\n",
       "    <tr>\n",
       "      <th>Died</th>\n",
       "      <td>0.013203</td>\n",
       "      <td>0.003206</td>\n",
       "    </tr>\n",
       "    <tr>\n",
       "      <th>Euthanasia</th>\n",
       "      <td>0.063769</td>\n",
       "      <td>0.054184</td>\n",
       "    </tr>\n",
       "    <tr>\n",
       "      <th>Return_to_owner</th>\n",
       "      <td>0.044907</td>\n",
       "      <td>0.274832</td>\n",
       "    </tr>\n",
       "    <tr>\n",
       "      <th>Transfer</th>\n",
       "      <td>0.494431</td>\n",
       "      <td>0.251170</td>\n",
       "    </tr>\n",
       "  </tbody>\n",
       "</table>\n",
       "</div>"
      ],
      "text/plain": [
       "AnimalType            Cat       Dog\n",
       "OutcomeType                        \n",
       "Adoption         0.383690  0.416608\n",
       "Died             0.013203  0.003206\n",
       "Euthanasia       0.063769  0.054184\n",
       "Return_to_owner  0.044907  0.274832\n",
       "Transfer         0.494431  0.251170"
      ]
     },
     "execution_count": 43,
     "metadata": {},
     "output_type": "execute_result"
    }
   ],
   "source": [
    "pt2"
   ]
  },
  {
   "cell_type": "code",
   "execution_count": 44,
   "metadata": {
    "collapsed": false
   },
   "outputs": [],
   "source": [
    "animal_type2id = {'Dog': 0, 'Cat': 1}\n",
    "df['AnimalTypeId'] = df['AnimalType'].map(animal_type2id)\n",
    "not_needed.append('AnimalType')"
   ]
  },
  {
   "cell_type": "markdown",
   "metadata": {},
   "source": [
    "### Breed"
   ]
  },
  {
   "cell_type": "code",
   "execution_count": 67,
   "metadata": {
    "collapsed": true
   },
   "outputs": [],
   "source": [
    "not_needed.append('Breed')"
   ]
  },
  {
   "cell_type": "markdown",
   "metadata": {},
   "source": [
    "### Color"
   ]
  },
  {
   "cell_type": "code",
   "execution_count": 49,
   "metadata": {
    "collapsed": true
   },
   "outputs": [],
   "source": [
    "not_needed.append('Color')"
   ]
  },
  {
   "cell_type": "markdown",
   "metadata": {},
   "source": [
    "### DateTime"
   ]
  },
  {
   "cell_type": "code",
   "execution_count": 50,
   "metadata": {
    "collapsed": true
   },
   "outputs": [],
   "source": [
    "not_needed.append('DateTime')"
   ]
  },
  {
   "cell_type": "markdown",
   "metadata": {},
   "source": [
    "### Name"
   ]
  },
  {
   "cell_type": "code",
   "execution_count": 51,
   "metadata": {
    "collapsed": true
   },
   "outputs": [],
   "source": [
    "not_needed.append('Name')"
   ]
  },
  {
   "cell_type": "markdown",
   "metadata": {},
   "source": [
    "### SexuponOutcome"
   ]
  },
  {
   "cell_type": "code",
   "execution_count": 52,
   "metadata": {
    "collapsed": true
   },
   "outputs": [],
   "source": [
    "not_needed.append('SexuponOutcome')"
   ]
  },
  {
   "cell_type": "markdown",
   "metadata": {},
   "source": [
    "## scikit-learn用にデータ変換"
   ]
  },
  {
   "cell_type": "code",
   "execution_count": 53,
   "metadata": {
    "collapsed": false
   },
   "outputs": [
    {
     "data": {
      "text/plain": [
       "['OutcomeType',\n",
       " 'OutcomeSubtype',\n",
       " 'AgeuponOutcome',\n",
       " 'AnimalType',\n",
       " 'breed',\n",
       " 'Color',\n",
       " 'DateTime',\n",
       " 'Name',\n",
       " 'SexuponOutcome']"
      ]
     },
     "execution_count": 53,
     "metadata": {},
     "output_type": "execute_result"
    }
   ],
   "source": [
    "not_needed"
   ]
  },
  {
   "cell_type": "code",
   "execution_count": 68,
   "metadata": {
    "collapsed": false
   },
   "outputs": [],
   "source": [
    "#input_features = ['AnimalTypeId']\n",
    "#input_features = ['AnimalTypeId', 'NameCount']\n",
    "#input_features = ['AnimalTypeId', 'LogNameCount']\n",
    "#input_features = ['AnimalTypeId', 'NameCount', 'LogNameCount']\n",
    "#input_features = ['AnimalTypeId', 'NameCount', 'LogNameCount']\n",
    "#input_features = ['AnimalTypeId', 'NameCount', 'LogNameCount', 'NameIsNull']\n",
    "#input_features = ['AnimalTypeId', 'NameCount', 'LogNameCount', 'NameIsNull', 'NameLength']\n",
    "output_feature = 'OutcomeTypeId'\n",
    "input_features = df.columns.difference(not_needed + [output_feature, '_data'])"
   ]
  },
  {
   "cell_type": "code",
   "execution_count": 124,
   "metadata": {
    "collapsed": false
   },
   "outputs": [
    {
     "data": {
      "text/plain": [
       "Index([u'AnimalTypeId'], dtype='object')"
      ]
     },
     "execution_count": 124,
     "metadata": {},
     "output_type": "execute_result"
    }
   ],
   "source": [
    "input_features"
   ]
  },
  {
   "cell_type": "code",
   "execution_count": 70,
   "metadata": {
    "collapsed": false
   },
   "outputs": [],
   "source": [
    "# トレーニングデータの入力特徴量を用意（２次元）\n",
    "X_train = df.ix[df['_data'] == 'train', input_features].values.astype('float')"
   ]
  },
  {
   "cell_type": "code",
   "execution_count": 71,
   "metadata": {
    "collapsed": false
   },
   "outputs": [
    {
     "data": {
      "text/plain": [
       "(26729, 1)"
      ]
     },
     "execution_count": 71,
     "metadata": {},
     "output_type": "execute_result"
    }
   ],
   "source": [
    "X_train.shape"
   ]
  },
  {
   "cell_type": "code",
   "execution_count": 59,
   "metadata": {
    "collapsed": false
   },
   "outputs": [
    {
     "data": {
      "text/plain": [
       "(26729,)"
      ]
     },
     "execution_count": 59,
     "metadata": {},
     "output_type": "execute_result"
    }
   ],
   "source": [
    "# トレーニングデータの出力特徴量を用意（１次元）\n",
    "# 1次元で用意するためには、Seriesから値を取り出せば良い。もしくはflatten()を使う\n",
    "y_train = df.ix[df['_data'] == 'train', output_feature].values.astype('int')\n",
    "y_train.shape"
   ]
  },
  {
   "cell_type": "code",
   "execution_count": 72,
   "metadata": {
    "collapsed": false
   },
   "outputs": [
    {
     "data": {
      "text/plain": [
       "(11456, 1)"
      ]
     },
     "execution_count": 72,
     "metadata": {},
     "output_type": "execute_result"
    }
   ],
   "source": [
    "# テストデータの入力特徴量を用意（２次元）\n",
    "X_test = df.ix[df['_data'] == 'test', input_features].values.astype('float')\n",
    "X_test.shape"
   ]
  },
  {
   "cell_type": "markdown",
   "metadata": {},
   "source": [
    "## スケーリング"
   ]
  },
  {
   "cell_type": "code",
   "execution_count": 73,
   "metadata": {
    "collapsed": true
   },
   "outputs": [],
   "source": [
    "from sklearn.preprocessing import StandardScaler"
   ]
  },
  {
   "cell_type": "code",
   "execution_count": 74,
   "metadata": {
    "collapsed": true
   },
   "outputs": [],
   "source": [
    "scaler = StandardScaler()"
   ]
  },
  {
   "cell_type": "code",
   "execution_count": 75,
   "metadata": {
    "collapsed": false
   },
   "outputs": [
    {
     "data": {
      "text/plain": [
       "StandardScaler(copy=True, with_mean=True, with_std=True)"
      ]
     },
     "execution_count": 75,
     "metadata": {},
     "output_type": "execute_result"
    }
   ],
   "source": [
    "scaler.fit(X_train)"
   ]
  },
  {
   "cell_type": "code",
   "execution_count": 76,
   "metadata": {
    "collapsed": true
   },
   "outputs": [],
   "source": [
    "# 通常バイナリデータはスケーリングの対象としないが、今回はざっくりと全入力変数をスケーリングしてしまう\n",
    "X_train = scaler.transform(X_train)\n",
    "X_test = scaler.transform(X_test)"
   ]
  },
  {
   "cell_type": "code",
   "execution_count": 77,
   "metadata": {
    "collapsed": false
   },
   "outputs": [
    {
     "name": "stdout",
     "output_type": "stream",
     "text": [
      "トレーニングデータ\n",
      "[ -1.08060766e-16]\n",
      "[ 1.]\n",
      "テストデータ\n",
      "[ 0.00495571]\n",
      "[ 1.00082624]\n"
     ]
    }
   ],
   "source": [
    "print u\"トレーニングデータ\"\n",
    "print X_train.mean(axis=0)\n",
    "print X_train.std(axis=0)\n",
    "print u\"テストデータ\"\n",
    "print X_test.mean(axis=0)\n",
    "print X_test.std(axis=0)"
   ]
  },
  {
   "cell_type": "markdown",
   "metadata": {},
   "source": [
    "# ステップ３：機械学習"
   ]
  },
  {
   "cell_type": "code",
   "execution_count": 78,
   "metadata": {
    "collapsed": true
   },
   "outputs": [],
   "source": [
    "# モデルの読み込み\n",
    "from sklearn.linear_model import LogisticRegression\n",
    "from sklearn.ensemble import RandomForestClassifier, GradientBoostingClassifier"
   ]
  },
  {
   "cell_type": "code",
   "execution_count": 79,
   "metadata": {
    "collapsed": true
   },
   "outputs": [],
   "source": [
    "#model = LogisticRegression()\n",
    "#model = RandomForestClassifier()\n",
    "model = GradientBoostingClassifier()"
   ]
  },
  {
   "cell_type": "code",
   "execution_count": 80,
   "metadata": {
    "collapsed": false
   },
   "outputs": [],
   "source": [
    "# 交差検定\n",
    "#from sklearn.cross_validation import cross_val_score\n",
    "#cv_scores = cross_val_score(model, X_train, y_train, scoring='log_loss', cv=5, n_jobs=-1)\n",
    "#print\"{0:.3f} ({1:.3f})\".format(cv_scores.mean(), cv_scores.std())"
   ]
  },
  {
   "cell_type": "code",
   "execution_count": 81,
   "metadata": {
    "collapsed": false
   },
   "outputs": [
    {
     "data": {
      "text/plain": [
       "GradientBoostingClassifier(init=None, learning_rate=0.1, loss='deviance',\n",
       "              max_depth=3, max_features=None, max_leaf_nodes=None,\n",
       "              min_samples_leaf=1, min_samples_split=2,\n",
       "              min_weight_fraction_leaf=0.0, n_estimators=100,\n",
       "              presort='auto', random_state=None, subsample=1.0, verbose=0,\n",
       "              warm_start=False)"
      ]
     },
     "execution_count": 81,
     "metadata": {},
     "output_type": "execute_result"
    }
   ],
   "source": [
    "# 学習\n",
    "model.fit(X_train, y_train)"
   ]
  },
  {
   "cell_type": "code",
   "execution_count": 82,
   "metadata": {
    "collapsed": true
   },
   "outputs": [],
   "source": [
    "# テストデータの出力を予測\n",
    "y_test_pred = model.predict_proba(X_test)"
   ]
  },
  {
   "cell_type": "code",
   "execution_count": 83,
   "metadata": {
    "collapsed": false,
    "scrolled": false
   },
   "outputs": [
    {
     "data": {
      "text/plain": [
       "(11456, 5)"
      ]
     },
     "execution_count": 83,
     "metadata": {},
     "output_type": "execute_result"
    }
   ],
   "source": [
    "y_test_pred.shape"
   ]
  },
  {
   "cell_type": "markdown",
   "metadata": {},
   "source": [
    "# ステップ４：結果提出"
   ]
  },
  {
   "cell_type": "code",
   "execution_count": 84,
   "metadata": {
    "collapsed": false
   },
   "outputs": [],
   "source": [
    "df_result = pd.DataFrame(y_test_pred, columns=outcome_labels, index=df_test.index)"
   ]
  },
  {
   "cell_type": "code",
   "execution_count": null,
   "metadata": {
    "collapsed": false
   },
   "outputs": [],
   "source": [
    "df_result.to_csv(\"../output/submission01.csv\")"
   ]
  },
  {
   "cell_type": "code",
   "execution_count": null,
   "metadata": {
    "collapsed": true
   },
   "outputs": [],
   "source": [
    "#!open ../output"
   ]
  },
  {
   "cell_type": "code",
   "execution_count": 85,
   "metadata": {
    "collapsed": false
   },
   "outputs": [
    {
     "data": {
      "text/plain": [
       "<matplotlib.axes._subplots.AxesSubplot at 0x11b70e8d0>"
      ]
     },
     "execution_count": 85,
     "metadata": {},
     "output_type": "execute_result"
    },
    {
     "data": {
      "image/png": "[encoded data removed]",
      "text/plain": [
       "<matplotlib.figure.Figure at 0x11b70e210>"
      ]
     },
     "metadata": {},
     "output_type": "display_data"
    }
   ],
   "source": [
    "df_result[:10].T.plot()"
   ]
  },
  {
   "cell_type": "code",
   "execution_count": 86,
   "metadata": {
    "collapsed": false
   },
   "outputs": [
    {
     "data": {
      "text/plain": [
       "<matplotlib.axes._subplots.AxesSubplot at 0x11a7bbd50>"
      ]
     },
     "execution_count": 86,
     "metadata": {},
     "output_type": "execute_result"
    },
    {
     "data": {
      "image/png": "[encoded data removed]",
      "text/plain": [
       "<matplotlib.figure.Figure at 0x11b8b8850>"
      ]
     },
     "metadata": {},
     "output_type": "display_data"
    }
   ],
   "source": [
    "pt2.plot()"
   ]
  },
  {
   "cell_type": "markdown",
   "metadata": {},
   "source": [
    "## （おまけ）しかし、毎回kaggleに投げるのは問題あり..."
   ]
  },
  {
   "cell_type": "code",
   "execution_count": 87,
   "metadata": {
    "collapsed": true
   },
   "outputs": [],
   "source": [
    "# 交差検定をサクッとやるためのモジュールを読み込む\n",
    "from sklearn.cross_validation import cross_val_score"
   ]
  },
  {
   "cell_type": "code",
   "execution_count": 88,
   "metadata": {
    "collapsed": false,
    "scrolled": true
   },
   "outputs": [
    {
     "name": "stdout",
     "output_type": "stream",
     "text": [
      "-1.179 (0.003)\n"
     ]
    }
   ],
   "source": [
    "warnings.filterwarnings(\"ignore\", category=DeprecationWarning)\n",
    "\n",
    "# n_jobs=-1: 使用可能なコアをすべて使う\n",
    "cv_scores = cross_val_score(model, X_train, y_train, scoring='log_loss', cv=5, n_jobs=-1)\n",
    "print\"{0:.3f} ({1:.3f})\".format(cv_scores.mean(), cv_scores.std())"
   ]
  },
  {
   "cell_type": "markdown",
   "metadata": {},
   "source": [
    "## （おまけ）他のモデルだとどうなるだろう？"
   ]
  },
  {
   "cell_type": "code",
   "execution_count": 89,
   "metadata": {
    "collapsed": true
   },
   "outputs": [],
   "source": [
    "# 予測モデルの読み込み\n",
    "\n",
    "# 分類モデル（他にもいろいろある）\n",
    "from sklearn.linear_model import LogisticRegression\n",
    "from sklearn.neighbors import KNeighborsClassifier\n",
    "from sklearn.svm import SVC\n",
    "from sklearn.tree import DecisionTreeClassifier\n",
    "from sklearn.ensemble import RandomForestClassifier, AdaBoostClassifier, GradientBoostingClassifier, ExtraTreesClassifier\n",
    "from sklearn.naive_bayes import GaussianNB\n",
    "from sklearn.discriminant_analysis import LinearDiscriminantAnalysis, QuadraticDiscriminantAnalysis\n",
    "# コンペでは最近みんなこれ使ってるらしい\n",
    "#from xgboost import XGBClassifier # これだけ個別にインストールする必要あり"
   ]
  },
  {
   "cell_type": "code",
   "execution_count": 90,
   "metadata": {
    "collapsed": false
   },
   "outputs": [],
   "source": [
    "classifiers = [\n",
    "    ('lr', LogisticRegression()), \n",
    "    ('knn', KNeighborsClassifier()),\n",
    "    #('linear svc', SVC(kernel=\"linear\")), # データ点が多いと計算に時間がかかるので今回は割愛\n",
    "    #('rbf svc', SVC(gamma=2)), # データ点が多いと計算に時間がかかるので今回は割愛\n",
    "    ('dt', DecisionTreeClassifier()),\n",
    "    ('rf', RandomForestClassifier(random_state=42)),\n",
    "    ('et', ExtraTreesClassifier()),\n",
    "    ('ab', AdaBoostClassifier()),\n",
    "    ('gbc', GradientBoostingClassifier()),\n",
    "    ('gnb', GaussianNB()),\n",
    "    ('lda', LinearDiscriminantAnalysis()),\n",
    "    ('qda', QuadraticDiscriminantAnalysis()),\n",
    "    #('xgb', XGBClassifier()) # これだけ個別にインストールする必要があるので今回は割愛\n",
    "]"
   ]
  },
  {
   "cell_type": "code",
   "execution_count": 91,
   "metadata": {
    "collapsed": false
   },
   "outputs": [
    {
     "name": "stdout",
     "output_type": "stream",
     "text": [
      "-1.179 (0.003): time 0.29s, lr\n",
      "-4.525 (2.253): time 3.46s, knn\n",
      "-1.179 (0.003): time 0.04s, dt\n",
      "-1.179 (0.003): time 0.28s, rf\n",
      "-1.179 (0.003): time 0.24s, et\n",
      "-1.585 (0.000): time 1.92s, ab\n",
      "-1.179 (0.003): time 13.49s, gbc\n",
      "-1.203 (0.005): time 0.04s, gnb\n",
      "-1.185 (0.002): time 0.06s, lda\n",
      "-1.203 (0.005): time 0.07s, qda\n"
     ]
    }
   ],
   "source": [
    "warnings.filterwarnings(\"ignore\", category=UserWarning)\n",
    "\n",
    "import time\n",
    "results = {}\n",
    "exec_times = {}\n",
    "\n",
    "for name, model in classifiers:\n",
    "    tic = time.time()\n",
    "    if name in ['linear svc', 'rbf svc']:\n",
    "        result = cross_val_score(model, X_train, y_train, cv=5, scoring='accuracy')        \n",
    "    else:\n",
    "        result = cross_val_score(model, X_train, y_train, cv=5, scoring='log_loss')\n",
    "    exec_time = time.time() - tic\n",
    "    exec_times[name] = exec_time\n",
    "    results[name] = result\n",
    "    \n",
    "    print(\"{0:.3f} ({1:.3f}): time {2:.2f}s, {3}\".format(result.mean(), result.std(), exec_time, name))\n",
    "    \n",
    "# Q.なんで結果にマイナスついてるの・・・？？\n",
    "# A.scikit-learnでは、評価の高いのが数値が高い"
   ]
  },
  {
   "cell_type": "code",
   "execution_count": 92,
   "metadata": {
    "collapsed": false
   },
   "outputs": [
    {
     "data": {
      "image/png": "[encoded data removed]",
      "text/plain": [
       "<matplotlib.figure.Figure at 0x11b5583d0>"
      ]
     },
     "metadata": {},
     "output_type": "display_data"
    }
   ],
   "source": [
    "warnings.filterwarnings(\"ignore\", category=DeprecationWarning)\n",
    "warnings.filterwarnings(\"ignore\", category=FutureWarning)\n",
    "\n",
    "# 結果の描画を楽にするためpandasのデータフレームに結果を入れる\n",
    "import pandas as pd\n",
    "\n",
    "dfr = pd.DataFrame(results)\n",
    "\n",
    "dfr[dfr.median().sort_values(ascending=True).index].boxplot(vert=False);"
   ]
  },
  {
   "cell_type": "markdown",
   "metadata": {},
   "source": [
    "## （おまけ）特徴量の重要度を見たいときには？"
   ]
  },
  {
   "cell_type": "code",
   "execution_count": 93,
   "metadata": {
    "collapsed": false
   },
   "outputs": [
    {
     "data": {
      "image/png": "[encoded data removed]",
      "text/plain": [
       "<matplotlib.figure.Figure at 0x1176522d0>"
      ]
     },
     "metadata": {},
     "output_type": "display_data"
    }
   ],
   "source": [
    "model = GradientBoostingClassifier()\n",
    "model.fit(X_train, y_train)\n",
    "fi = model.feature_importances_\n",
    "plt.barh(np.arange(len(fi)), fi);\n",
    "plt.yticks(np.arange(len(fi))+0.4, input_features);"
   ]
  },
  {
   "cell_type": "code",
   "execution_count": 94,
   "metadata": {
    "collapsed": false
   },
   "outputs": [],
   "source": [
    "df0 = df[input_features.union(['_data'])]\n",
    "df0 = df0[df0['_data'] == 'train']"
   ]
  },
  {
   "cell_type": "code",
   "execution_count": 95,
   "metadata": {
    "collapsed": false
   },
   "outputs": [],
   "source": [
    "df1 = pd.get_dummies(df_train['OutcomeType'])"
   ]
  },
  {
   "cell_type": "code",
   "execution_count": 96,
   "metadata": {
    "collapsed": false
   },
   "outputs": [],
   "source": [
    "df01 = df0.join(df1)"
   ]
  },
  {
   "cell_type": "code",
   "execution_count": 97,
   "metadata": {
    "collapsed": false
   },
   "outputs": [],
   "source": [
    "df01.drop('_data', inplace=True, axis=1)"
   ]
  },
  {
   "cell_type": "code",
   "execution_count": 98,
   "metadata": {
    "collapsed": false
   },
   "outputs": [
    {
     "data": {
      "text/plain": [
       "<matplotlib.axes._subplots.AxesSubplot at 0x116ac3bd0>"
      ]
     },
     "execution_count": 98,
     "metadata": {},
     "output_type": "execute_result"
    },
    {
     "data": {
      "image/png": "[encoded data removed]",
      "text/plain": [
       "<matplotlib.figure.Figure at 0x116acef50>"
      ]
     },
     "metadata": {},
     "output_type": "display_data"
    }
   ],
   "source": [
    "fig, ax = plt.subplots(figsize=(10, 8))\n",
    "sns.heatmap(df01.corr(), ax=ax)"
   ]
  },
  {
   "cell_type": "markdown",
   "metadata": {},
   "source": [
    "## （おまけ）ハイパーパラメータの選び方は？\n",
    "\n",
    "### それぞれの場合でこれを使おう\n",
    "\n",
    "- １次元: validation_curve\n",
    "- 低次元: GridSearchCV\n",
    "- 高次元: RandomizedSearchCV"
   ]
  },
  {
   "cell_type": "code",
   "execution_count": 99,
   "metadata": {
    "collapsed": true
   },
   "outputs": [],
   "source": [
    "# 交差検証\n",
    "from sklearn.learning_curve import validation_curve"
   ]
  },
  {
   "cell_type": "markdown",
   "metadata": {},
   "source": [
    "### GradientBoostingClassifier"
   ]
  },
  {
   "cell_type": "code",
   "execution_count": 100,
   "metadata": {
    "collapsed": false
   },
   "outputs": [],
   "source": [
    "param_name = 'max_depth'\n",
    "#param_name = 'n_estimators'\n",
    "\n",
    "param_range = {\n",
    "    'max_depth': [1, 2, 3, 4, 5, 6, 7],\n",
    "    'n_estimators': [10, 20, 40, 80, 160],\n",
    "    #'n_estimators': [40, 60, 80, 100, 120, 140, 160],\n",
    "}\n",
    "\n",
    "fixed_params = {\n",
    "#    'max_depth': 2\n",
    "}\n",
    "\n",
    "train_scores, valid_scores = validation_curve(GradientBoostingClassifier(**fixed_params), \n",
    "                                              X_train, y_train, \n",
    "                                              scoring='log_loss',\n",
    "                                              cv = 3,\n",
    "                                              param_name=param_name, \n",
    "                                              param_range=param_range[param_name], \n",
    "                                              n_jobs=-1)"
   ]
  },
  {
   "cell_type": "code",
   "execution_count": 101,
   "metadata": {
    "collapsed": false,
    "scrolled": true
   },
   "outputs": [
    {
     "data": {
      "text/plain": [
       "array([[-1.17880354, -1.17635708, -1.18008368],\n",
       "       [-1.17880354, -1.17635708, -1.18008368],\n",
       "       [-1.17880354, -1.17635708, -1.18008368],\n",
       "       [-1.17880354, -1.17635708, -1.18008368],\n",
       "       [-1.17880354, -1.17635708, -1.18008368],\n",
       "       [-1.17880354, -1.17635708, -1.18008368],\n",
       "       [-1.17880354, -1.17635708, -1.18008368]])"
      ]
     },
     "execution_count": 101,
     "metadata": {},
     "output_type": "execute_result"
    }
   ],
   "source": [
    "train_scores"
   ]
  },
  {
   "cell_type": "code",
   "execution_count": 102,
   "metadata": {
    "collapsed": false
   },
   "outputs": [
    {
     "data": {
      "text/plain": [
       "array([[-1.17777519, -1.18275484, -1.17528334],\n",
       "       [-1.17777519, -1.18275484, -1.17528334],\n",
       "       [-1.17777519, -1.18275484, -1.17528334],\n",
       "       [-1.17777519, -1.18275484, -1.17528334],\n",
       "       [-1.17777519, -1.18275484, -1.17528334],\n",
       "       [-1.17777519, -1.18275484, -1.17528334],\n",
       "       [-1.17777519, -1.18275484, -1.17528334]])"
      ]
     },
     "execution_count": 102,
     "metadata": {},
     "output_type": "execute_result"
    }
   ],
   "source": [
    "valid_scores"
   ]
  },
  {
   "cell_type": "code",
   "execution_count": 103,
   "metadata": {
    "collapsed": true
   },
   "outputs": [],
   "source": [
    "def plot_validation_curve(train_scores, valid_scores, param_range, semilogx=False):\n",
    "    train_scores_mean = np.mean(train_scores, axis=1)\n",
    "    train_scores_std = np.std(train_scores, axis=1)\n",
    "    valid_scores_mean = np.mean(valid_scores, axis=1)\n",
    "    valid_scores_std = np.std(valid_scores, axis=1)\n",
    "\n",
    "    if semilogx:\n",
    "        plot = plt.semilogx\n",
    "    else:\n",
    "        plot = plt.plot\n",
    "    \n",
    "    plt.title(\"Validation Curve\")\n",
    "    plt.xlabel(\"Hyperparameter\")\n",
    "    plt.ylabel(\"Score\")\n",
    "    #plt.ylim(0.0, 1.1)\n",
    "    plot(param_range, train_scores_mean, label=\"Training score\", color=\"r\")\n",
    "    plt.fill_between(param_range, train_scores_mean - train_scores_std,\n",
    "                     train_scores_mean + train_scores_std, alpha=0.2, color=\"r\")\n",
    "    plot(param_range, valid_scores_mean, label=\"Cross-validation score\",\n",
    "                 color=\"g\")\n",
    "    plt.fill_between(param_range, valid_scores_mean - valid_scores_std,\n",
    "                     valid_scores_mean + valid_scores_std, alpha=0.2, color=\"g\")\n",
    "    plt.legend(loc=\"best\")\n",
    "    plt.show()\n",
    "\n",
    "    print \"Best parameter is {}\".format(param_range[valid_scores_mean.argmax()])"
   ]
  },
  {
   "cell_type": "code",
   "execution_count": 104,
   "metadata": {
    "collapsed": false,
    "scrolled": true
   },
   "outputs": [
    {
     "data": {
      "image/png": "[encoded data removed]",
      "text/plain": [
       "<matplotlib.figure.Figure at 0x11bb67990>"
      ]
     },
     "metadata": {},
     "output_type": "display_data"
    },
    {
     "name": "stdout",
     "output_type": "stream",
     "text": [
      "Best parameter is 1\n"
     ]
    }
   ],
   "source": [
    "plot_validation_curve(train_scores, valid_scores, \n",
    "                      param_range[param_name], semilogx=False);"
   ]
  },
  {
   "cell_type": "code",
   "execution_count": 105,
   "metadata": {
    "collapsed": false
   },
   "outputs": [
    {
     "name": "stdout",
     "output_type": "stream",
     "text": [
      "-1.1827 (0.0027)\n"
     ]
    }
   ],
   "source": [
    "cv_scores = cross_val_score(GradientBoostingClassifier(max_depth=5, n_estimators=32),\n",
    "                            X_train, y_train, scoring='log_loss', cv=5, n_jobs=-1)\n",
    "print\"{0:.4f} ({1:.4f})\".format(cv_scores.mean(), cv_scores.std())"
   ]
  },
  {
   "cell_type": "markdown",
   "metadata": {},
   "source": [
    "### RandomForestClassifier"
   ]
  },
  {
   "cell_type": "code",
   "execution_count": 110,
   "metadata": {
    "collapsed": false
   },
   "outputs": [],
   "source": [
    "#param_name = 'max_depth'\n",
    "param_name = 'n_estimators'\n",
    "\n",
    "param_range = {\n",
    "    #'max_depth': np.logspace(0, 8, base=2, num=9),\n",
    "    'max_depth': [6, 9, 12], #[6, 7, 8, 9, 10, 11, 12],\n",
    "    'n_estimators': np.logspace(2, 11, base=2, num=4).astype(int),\n",
    "    #'n_estimators': np.logspace(2, 11, base=2, num=10).astype(int),\n",
    "    #'n_estimators': [40, 60, 80, 100, 120, 140, 160],\n",
    "}\n",
    "\n",
    "fixed_params = {\n",
    "    'max_depth': 10\n",
    "}\n",
    "\n",
    "train_scores, valid_scores = validation_curve(RandomForestClassifier(**fixed_params), \n",
    "                                              X_train, y_train, \n",
    "                                              scoring='log_loss',\n",
    "                                              cv = 3,\n",
    "                                              param_name=param_name, \n",
    "                                              param_range=param_range[param_name], \n",
    "                                              n_jobs=-1)"
   ]
  },
  {
   "cell_type": "code",
   "execution_count": 111,
   "metadata": {
    "collapsed": false
   },
   "outputs": [
    {
     "data": {
      "image/png": "[encoded data removed]",
      "text/plain": [
       "<matplotlib.figure.Figure at 0x1175ea110>"
      ]
     },
     "metadata": {},
     "output_type": "display_data"
    },
    {
     "name": "stdout",
     "output_type": "stream",
     "text": [
      "Best parameter is 4\n"
     ]
    }
   ],
   "source": [
    "plot_validation_curve(train_scores, valid_scores, \n",
    "                      param_range[param_name], semilogx=True);"
   ]
  },
  {
   "cell_type": "code",
   "execution_count": 112,
   "metadata": {
    "collapsed": false
   },
   "outputs": [
    {
     "name": "stdout",
     "output_type": "stream",
     "text": [
      "-1.1785 (0.0027)\n"
     ]
    }
   ],
   "source": [
    "cv_scores = cross_val_score(RandomForestClassifier(max_depth=10, n_estimators=2048),\n",
    "                            X_train, y_train, scoring='log_loss', cv=5, n_jobs=-1)\n",
    "print\"{0:.4f} ({1:.4f})\".format(cv_scores.mean(), cv_scores.std())"
   ]
  },
  {
   "cell_type": "markdown",
   "metadata": {},
   "source": [
    "## （おまけ）モデルのアベレージング"
   ]
  },
  {
   "cell_type": "code",
   "execution_count": 113,
   "metadata": {
    "collapsed": true
   },
   "outputs": [],
   "source": [
    "from sklearn.ensemble import VotingClassifier"
   ]
  },
  {
   "cell_type": "code",
   "execution_count": 114,
   "metadata": {
    "collapsed": false
   },
   "outputs": [],
   "source": [
    "estimators = []\n",
    "\n",
    "# ハイパーパラメータは、モデルごとに交差検証して決める\n",
    "#estimators.append(('lr', LogisticRegression(C=1)))\n",
    "estimators.append(('gbc', GradientBoostingClassifier(n_estimators=32, max_depth=5)))\n",
    "estimators.append(('rf', RandomForestClassifier(n_estimators=2048, max_depth=10)))\n",
    "#estimators.append(('et', ExtraTreesClassifier(n_estimators=250, max_depth=12)))\n",
    "#estimators.append(('xgb', XGBClassifier(n_estimators=32, max_depth=6, learning_rate=0.1, \n",
    "#                                        colsample_bytree=0.7, reg_alpha=0.0, reg_lambda=1.0, \n",
    "#                                        min_child_weight=6, subsample=1.0)))"
   ]
  },
  {
   "cell_type": "code",
   "execution_count": 115,
   "metadata": {
    "collapsed": false
   },
   "outputs": [],
   "source": [
    "model = VotingClassifier(estimators=estimators, voting='soft', weights=[1, 1]) "
   ]
  },
  {
   "cell_type": "code",
   "execution_count": 116,
   "metadata": {
    "collapsed": false
   },
   "outputs": [
    {
     "data": {
      "text/plain": [
       "[('gbc',\n",
       "  GradientBoostingClassifier(init=None, learning_rate=0.1, loss='deviance',\n",
       "                max_depth=5, max_features=None, max_leaf_nodes=None,\n",
       "                min_samples_leaf=1, min_samples_split=2,\n",
       "                min_weight_fraction_leaf=0.0, n_estimators=32,\n",
       "                presort='auto', random_state=None, subsample=1.0, verbose=0,\n",
       "                warm_start=False)),\n",
       " ('rf',\n",
       "  RandomForestClassifier(bootstrap=True, class_weight=None, criterion='gini',\n",
       "              max_depth=10, max_features='auto', max_leaf_nodes=None,\n",
       "              min_samples_leaf=1, min_samples_split=2,\n",
       "              min_weight_fraction_leaf=0.0, n_estimators=2048, n_jobs=1,\n",
       "              oob_score=False, random_state=None, verbose=0,\n",
       "              warm_start=False))]"
      ]
     },
     "execution_count": 116,
     "metadata": {},
     "output_type": "execute_result"
    }
   ],
   "source": [
    "model.estimators"
   ]
  },
  {
   "cell_type": "code",
   "execution_count": 117,
   "metadata": {
    "collapsed": false,
    "scrolled": true
   },
   "outputs": [
    {
     "data": {
      "text/html": [
       "<div>\n",
       "<table border=\"1\" class=\"dataframe\">\n",
       "  <thead>\n",
       "    <tr style=\"text-align: right;\">\n",
       "      <th></th>\n",
       "      <th>gbc</th>\n",
       "      <th>rf</th>\n",
       "    </tr>\n",
       "  </thead>\n",
       "  <tbody>\n",
       "    <tr>\n",
       "      <th>gbc</th>\n",
       "      <td>1.00000</td>\n",
       "      <td>0.99994</td>\n",
       "    </tr>\n",
       "    <tr>\n",
       "      <th>rf</th>\n",
       "      <td>0.99994</td>\n",
       "      <td>1.00000</td>\n",
       "    </tr>\n",
       "  </tbody>\n",
       "</table>\n",
       "</div>"
      ],
      "text/plain": [
       "         gbc       rf\n",
       "gbc  1.00000  0.99994\n",
       "rf   0.99994  1.00000"
      ]
     },
     "execution_count": 117,
     "metadata": {},
     "output_type": "execute_result"
    }
   ],
   "source": [
    "# 各モデルの予測の相関関係をみる。相関関係の薄いモデルをVoting ensembleに入れる\n",
    "\n",
    "pred_prob = {}\n",
    "for model_name in model.named_estimators:\n",
    "    curr_model = model.named_estimators[model_name]\n",
    "    curr_model.fit(X_train, y_train)\n",
    "    pred_prob[model_name]  = curr_model.predict_proba(X_test).flatten()#[:, 1]\n",
    "    \n",
    "df_pred = pd.DataFrame(pred_prob)\n",
    "df_pred.corr()"
   ]
  },
  {
   "cell_type": "code",
   "execution_count": 118,
   "metadata": {
    "collapsed": false,
    "scrolled": true
   },
   "outputs": [
    {
     "name": "stdout",
     "output_type": "stream",
     "text": [
      "(-1.1799) +/- (0.0027)\n"
     ]
    }
   ],
   "source": [
    "results = cross_val_score(model, X_train, y_train, cv=5, scoring='log_loss', n_jobs=-1)\n",
    "print(\"({0:.4f}) +/- ({1:.4f})\".format(results.mean(), results.std()))"
   ]
  },
  {
   "cell_type": "code",
   "execution_count": 119,
   "metadata": {
    "collapsed": false,
    "scrolled": true
   },
   "outputs": [
    {
     "data": {
      "text/plain": [
       "VotingClassifier(estimators=[('gbc', GradientBoostingClassifier(init=None, learning_rate=0.1, loss='deviance',\n",
       "              max_depth=5, max_features=None, max_leaf_nodes=None,\n",
       "              min_samples_leaf=1, min_samples_split=2,\n",
       "              min_weight_fraction_leaf=0.0, n_estimators=32,\n",
       "              presort='...n_jobs=1,\n",
       "            oob_score=False, random_state=None, verbose=0,\n",
       "            warm_start=False))],\n",
       "         voting='soft', weights=[1, 1])"
      ]
     },
     "execution_count": 119,
     "metadata": {},
     "output_type": "execute_result"
    }
   ],
   "source": [
    "# いい感じに全てのモデルのハイパーパラメータが決まったら、全てのモデルをアンサンブル学習\n",
    "model.fit(X_train, y_train)"
   ]
  },
  {
   "cell_type": "code",
   "execution_count": 120,
   "metadata": {
    "collapsed": false
   },
   "outputs": [],
   "source": [
    "# 予測\n",
    "y_test_pred = model.predict_proba(X_test)"
   ]
  },
  {
   "cell_type": "code",
   "execution_count": 121,
   "metadata": {
    "collapsed": true
   },
   "outputs": [],
   "source": [
    "df_result = pd.DataFrame(y_test_pred, columns=outcome_labels, index=df_test.index)"
   ]
  },
  {
   "cell_type": "code",
   "execution_count": 122,
   "metadata": {
    "collapsed": false
   },
   "outputs": [
    {
     "ename": "IOError",
     "evalue": "[Errno 2] No such file or directory: '../output/submission02.csv'",
     "output_type": "error",
     "traceback": [
      "\u001b[0;31m---------------------------------------------------------------------------\u001b[0m",
      "\u001b[0;31mIOError\u001b[0m                                   Traceback (most recent call last)",
      "\u001b[0;32m<ipython-input-122-e3f0e131c329>\u001b[0m in \u001b[0;36m<module>\u001b[0;34m()\u001b[0m\n\u001b[0;32m----> 1\u001b[0;31m \u001b[0mdf_result\u001b[0m\u001b[0;34m.\u001b[0m\u001b[0mto_csv\u001b[0m\u001b[0;34m(\u001b[0m\u001b[0;34m\"../output/submission02.csv\"\u001b[0m\u001b[0;34m)\u001b[0m\u001b[0;34m\u001b[0m\u001b[0m\n\u001b[0m",
      "\u001b[0;32m/Users/tetsuhiro/.pyenv/versions/anaconda-2.4.0/lib/python2.7/site-packages/pandas/core/frame.pyc\u001b[0m in \u001b[0;36mto_csv\u001b[0;34m(self, path_or_buf, sep, na_rep, float_format, columns, header, index, index_label, mode, encoding, compression, quoting, quotechar, line_terminator, chunksize, tupleize_cols, date_format, doublequote, escapechar, decimal, **kwds)\u001b[0m\n\u001b[1;32m   1342\u001b[0m                                      \u001b[0mdoublequote\u001b[0m\u001b[0;34m=\u001b[0m\u001b[0mdoublequote\u001b[0m\u001b[0;34m,\u001b[0m\u001b[0;34m\u001b[0m\u001b[0m\n\u001b[1;32m   1343\u001b[0m                                      escapechar=escapechar, decimal=decimal)\n\u001b[0;32m-> 1344\u001b[0;31m         \u001b[0mformatter\u001b[0m\u001b[0;34m.\u001b[0m\u001b[0msave\u001b[0m\u001b[0;34m(\u001b[0m\u001b[0;34m)\u001b[0m\u001b[0;34m\u001b[0m\u001b[0m\n\u001b[0m\u001b[1;32m   1345\u001b[0m \u001b[0;34m\u001b[0m\u001b[0m\n\u001b[1;32m   1346\u001b[0m         \u001b[0;32mif\u001b[0m \u001b[0mpath_or_buf\u001b[0m \u001b[0;32mis\u001b[0m \u001b[0mNone\u001b[0m\u001b[0;34m:\u001b[0m\u001b[0;34m\u001b[0m\u001b[0m\n",
      "\u001b[0;32m/Users/tetsuhiro/.pyenv/versions/anaconda-2.4.0/lib/python2.7/site-packages/pandas/formats/format.pyc\u001b[0m in \u001b[0;36msave\u001b[0;34m(self)\u001b[0m\n\u001b[1;32m   1524\u001b[0m             f = _get_handle(self.path_or_buf, self.mode,\n\u001b[1;32m   1525\u001b[0m                             \u001b[0mencoding\u001b[0m\u001b[0;34m=\u001b[0m\u001b[0mself\u001b[0m\u001b[0;34m.\u001b[0m\u001b[0mencoding\u001b[0m\u001b[0;34m,\u001b[0m\u001b[0;34m\u001b[0m\u001b[0m\n\u001b[0;32m-> 1526\u001b[0;31m                             compression=self.compression)\n\u001b[0m\u001b[1;32m   1527\u001b[0m             \u001b[0mclose\u001b[0m \u001b[0;34m=\u001b[0m \u001b[0mTrue\u001b[0m\u001b[0;34m\u001b[0m\u001b[0m\n\u001b[1;32m   1528\u001b[0m \u001b[0;34m\u001b[0m\u001b[0m\n",
      "\u001b[0;32m/Users/tetsuhiro/.pyenv/versions/anaconda-2.4.0/lib/python2.7/site-packages/pandas/io/common.pyc\u001b[0m in \u001b[0;36m_get_handle\u001b[0;34m(path, mode, encoding, compression)\u001b[0m\n\u001b[1;32m    424\u001b[0m                 \u001b[0mf\u001b[0m \u001b[0;34m=\u001b[0m \u001b[0mopen\u001b[0m\u001b[0;34m(\u001b[0m\u001b[0mpath\u001b[0m\u001b[0;34m,\u001b[0m \u001b[0mmode\u001b[0m\u001b[0;34m,\u001b[0m \u001b[0merrors\u001b[0m\u001b[0;34m=\u001b[0m\u001b[0;34m'replace'\u001b[0m\u001b[0;34m)\u001b[0m\u001b[0;34m\u001b[0m\u001b[0m\n\u001b[1;32m    425\u001b[0m         \u001b[0;32melse\u001b[0m\u001b[0;34m:\u001b[0m\u001b[0;34m\u001b[0m\u001b[0m\n\u001b[0;32m--> 426\u001b[0;31m             \u001b[0mf\u001b[0m \u001b[0;34m=\u001b[0m \u001b[0mopen\u001b[0m\u001b[0;34m(\u001b[0m\u001b[0mpath\u001b[0m\u001b[0;34m,\u001b[0m \u001b[0mmode\u001b[0m\u001b[0;34m)\u001b[0m\u001b[0;34m\u001b[0m\u001b[0m\n\u001b[0m\u001b[1;32m    427\u001b[0m \u001b[0;34m\u001b[0m\u001b[0m\n\u001b[1;32m    428\u001b[0m     \u001b[0;32mreturn\u001b[0m \u001b[0mf\u001b[0m\u001b[0;34m\u001b[0m\u001b[0m\n",
      "\u001b[0;31mIOError\u001b[0m: [Errno 2] No such file or directory: '../output/submission02.csv'"
     ]
    }
   ],
   "source": [
    "df_result.to_csv(\"../output/submission02.csv\")"
   ]
  }
 ],
 "metadata": {
  "kernelspec": {
   "display_name": "Python 2",
   "language": "python",
   "name": "python2"
  },
  "language_info": {
   "codemirror_mode": {
    "name": "ipython",
    "version": 2
   },
   "file_extension": ".py",
   "mimetype": "text/x-python",
   "name": "python",
   "nbconvert_exporter": "python",
   "pygments_lexer": "ipython2",
   "version": "2.7.11"
  }
 },
 "nbformat": 4,
 "nbformat_minor": 0
}
